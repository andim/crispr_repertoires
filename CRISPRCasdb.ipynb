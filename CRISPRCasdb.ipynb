{
 "cells": [
  {
   "cell_type": "markdown",
   "metadata": {},
   "source": [
    "# CRISPRCasdb\n",
    "CRISPRCasdb is a database of CRISPR arrays and cas loci identified in GenBank's whole-genome assemblies using CRISPRCasFinder. The following tables were downloaded from the [version dated 21 Jan 2021](https://crisprcas.i2bc.paris-saclay.fr/Home/Download):\n",
    "1. `crisprdata_4.csv`: evidence level 4 (highest-confidence) CRISPR arrays\n",
    "2. `spacerdata_4.csv`: spacer sequences of evidence level 4 CRISPR arrays\n",
    "3. `drdata_4.csv`: direct repeat (dr) sequences of evidence level 4 CRISPR arrays\n",
    "4. `casdata.csv`: cas loci\n",
    "5. `casgenedata.csv`: cas genes\n",
    "6. `seqdata.csv`: sequence information of all strains, including those without CRISPR/cas\n",
    "7. `taxa.csv`: all taxa\n",
    "\n",
    "with the following columns:\n",
    "\n",
    "| crisprdata_4         | spacerdata_4 | drdata_4    | casdata      | casgenedata      | seqdata     | taxa           |\n",
    "|----------------------|--------------|-------------|--------------|------------------|-------------|----------------|\n",
    "| genbank              | genbank      | genbank     | genbank      | genbank          | taxid       | id             |\n",
    "| seqid                | seqid        | seqid       | seqid        | seqid            | genbank     | parent         |\n",
    "| locus_start          | locus_start  | locus_start | locus_start  | locus_start      | refseq      | scientificname |\n",
    "| locus_length         | start        | start       | locus_length | gene             | seqid       | rank           |\n",
    "| orientation          | sequence     | sequence    | subtype      | gene_start       | category    |                |\n",
    "| drconsensus          |              |             |              | gene_length      | seq_length  |                |\n",
    "| drconservation       |              |             |              | gene_orientation | ncount      |                |\n",
    "| spacerconservation   |              |             |              |                  | description |                |\n",
    "| potentialorientation |              |             |              |                  |             |                |\n",
    "| evidencelevelreeval  |              |             |              |                  |             |                |\n",
    "| blastscore           |              |             |              |                  |             |                |\n",
    "\n",
    "The rows in all tables are ordered (if applicable) by: (a) taxid, (b) genbank, (c) seq_length (descending), (d) locus_start, and (e) spacer/dr/casgene start.\n",
    "\n",
    "## Step 1: Parse CRISPRCasdb tables"
   ]
  },
  {
   "cell_type": "code",
   "execution_count": 1,
   "metadata": {},
   "outputs": [],
   "source": [
    "using DelimitedFiles\n",
    "\n",
    "include(\"get_distrib_sortedarr.jl\");"
   ]
  },
  {
   "cell_type": "markdown",
   "metadata": {},
   "source": [
    "### CRISPRCasFinder evidence levels of CRISPR arrays to use"
   ]
  },
  {
   "cell_type": "code",
   "execution_count": 2,
   "metadata": {},
   "outputs": [],
   "source": [
    "el = \"4\" # evidence level 4\n",
    "# el = \"34\" # evidence levels 3–4\n",
    "# el = \"234\" # evidence levels 2–4\n",
    "# el = \"1234\" # evidence levels 1–4;"
   ]
  },
  {
   "cell_type": "markdown",
   "metadata": {},
   "source": [
    "### genbank &rightarrow; crisprloci = [genbank, seqid, locus_start]"
   ]
  },
  {
   "cell_type": "code",
   "execution_count": 3,
   "metadata": {},
   "outputs": [],
   "source": [
    "crisprdata, crisprheader = readdlm(\"CRISPRCasdb/2021/crisprdata_$el.csv\",',',header=true)\n",
    "\n",
    "crisprloci = [crisprdata[i,1:3] for i in 1:size(crisprdata,1)] # [genbank, seqid, locus_start]\n",
    "# crisprinfo = [crisprdata[i,:] for i in 1:size(crisprdata,1)] # [genbank, seqid, locus_start, ...]\n",
    "\n",
    "gs, cum = get_cum_sortedarr(crisprdata[:,1]) # cumulative frequencies of genbanks in crisprdata\n",
    "\n",
    "genbank2crisprloci = Dict{String,Array}(gs[i] => crisprloci[cum[i]+1:cum[i+1]] for i in 1:length(gs))\n",
    "# genbank2crisprinfo = Dict{String,Array}(gs[i] => crisprinfo[cum[i]+1:cum[i+1]] for i in 1:length(gs));"
   ]
  },
  {
   "cell_type": "markdown",
   "metadata": {},
   "source": [
    "### crisprlocus &rightarrow; spacers"
   ]
  },
  {
   "cell_type": "code",
   "execution_count": 4,
   "metadata": {},
   "outputs": [],
   "source": [
    "spacerdata, spacerheader = readdlm(\"CRISPRCasdb/2021/spacerdata_$el.csv\",',',header=true)\n",
    "\n",
    "crisprlocus_ofspacers = [spacerdata[i,1:3] for i in 1:size(spacerdata,1)] # [genbank, seqid, locus_start]\n",
    "ls, cum = get_cum_sortedarr(crisprlocus_ofspacers) # cumulative frequencies of crisprloci in spacerdata\n",
    "\n",
    "# crisprlocus2spacerstarts = Dict{Array,Array{Int}}(ls[i] => spacerdata[cum[i]+1:cum[i+1],4] for i in 1:length(ls))\n",
    "crisprlocus2spacers = Dict{Array,Array{String}}(ls[i] => spacerdata[cum[i]+1:cum[i+1],5] for i in 1:length(ls));"
   ]
  },
  {
   "cell_type": "markdown",
   "metadata": {},
   "source": [
    "### crisprlocus &rightarrow; drs"
   ]
  },
  {
   "cell_type": "code",
   "execution_count": 5,
   "metadata": {},
   "outputs": [],
   "source": [
    "drdata, drheader = readdlm(\"CRISPRCasdb/2021/drdata_$el.csv\",',',header=true)\n",
    "\n",
    "crisprlocus_ofdrs = [drdata[i,1:3] for i in 1:size(drdata,1)] # [genbank, seqid, locus_start]\n",
    "ls, cum = get_cum_sortedarr(crisprlocus_ofdrs) # cumulative frequencies of crisprloci in drdata\n",
    "\n",
    "# crisprlocus2drstarts = Dict{Array,Array{Int}}(ls[i] => drdata[cum[i]+1:cum[i+1],4] for i in 1:length(ls))\n",
    "crisprlocus2drs = Dict{Array,Array{String}}(ls[i] => drdata[cum[i]+1:cum[i+1],5] for i in 1:length(ls));"
   ]
  },
  {
   "cell_type": "markdown",
   "metadata": {},
   "source": [
    "### genbank &rightarrow; casloci = [genbank, seqid, locus_start]"
   ]
  },
  {
   "cell_type": "code",
   "execution_count": 6,
   "metadata": {},
   "outputs": [],
   "source": [
    "casdata, casheader = readdlm(\"CRISPRCasdb/2021/casdata.csv\",',',header=true)\n",
    "\n",
    "casloci = [casdata[i,1:3] for i in 1:size(casdata,1)] # [genbank, seqid, locus_start]\n",
    "\n",
    "gs, cum = get_cum_sortedarr(casdata[:,1]) # cumulative frequencies of genbanks in casdata\n",
    "\n",
    "genbank2casloci = Dict{String,Array}(gs[i] => casloci[cum[i]+1:cum[i+1]] for i in 1:length(gs));"
   ]
  },
  {
   "cell_type": "markdown",
   "metadata": {},
   "source": [
    "### caslocus &rightarrow; casgene = [gene, gene_start, gene_length, gene_orientation]"
   ]
  },
  {
   "cell_type": "code",
   "execution_count": 7,
   "metadata": {},
   "outputs": [],
   "source": [
    "casgenedata, casgeneheader = readdlm(\"CRISPRCasdb/2021/casgenedata.csv\",',',header=true)\n",
    "\n",
    "casgenes = [casgenedata[i,4:end] for i in 1:size(casgenedata,1)]\n",
    "\n",
    "casloci_incasgenes = [casgenedata[i,1:3] for i in 1:size(casgenedata,1)] # [genbank, seqid, locus_start]\n",
    "cl, cum = get_cum_sortedarr(casloci_incasgenes) # cumulative frequencies of cas loci in casgenedata\n",
    "\n",
    "caslocus2genes = Dict{Array,Array}(cl[i] => casgenes[cum[i]+1:cum[i+1]] for i in 1:length(cl));"
   ]
  },
  {
   "cell_type": "code",
   "execution_count": 8,
   "metadata": {},
   "outputs": [],
   "source": [
    "casgenenames = [[cg[1] for cg in cgs] for cgs in values(caslocus2genes)];"
   ]
  },
  {
   "cell_type": "markdown",
   "metadata": {},
   "source": [
    "### taxid &rightarrow; parentid/name/rank"
   ]
  },
  {
   "cell_type": "code",
   "execution_count": 9,
   "metadata": {},
   "outputs": [],
   "source": [
    "taxa, taxaheader = readdlm(\"CRISPRCasdb/2021/taxa.csv\",',',header=true)\n",
    "\n",
    "taxid2parentid = Dict{Int,Union{Int,AbstractString}}(taxa[i,1] => taxa[i,2] for i in 1:size(taxa,1))\n",
    "taxid2name = Dict{Int,String}(taxa[i,1] => taxa[i,3] for i in 1:size(taxa,1))\n",
    "taxid2rank = Dict{Int,String}(taxa[i,1] => taxa[i,4] for i in 1:size(taxa,1));"
   ]
  },
  {
   "cell_type": "markdown",
   "metadata": {},
   "source": [
    "### genbank &rightarrow; taxid, taxid &rightarrow; genbanks\n",
    "Note: This includes strains without CRISPR/cas."
   ]
  },
  {
   "cell_type": "code",
   "execution_count": 10,
   "metadata": {},
   "outputs": [],
   "source": [
    "seqdata, seqheader = readdlm(\"CRISPRCasdb/2021/seqdata.csv\",',',header=true)\n",
    "\n",
    "genbank2taxid = Dict{String,Int}(seqdata[i,2] => seqdata[i,1] for i in 1:size(seqdata,1))\n",
    "\n",
    "ids, cum = get_cum_sortedarr(seqdata[:,1]) # cumulative frequencies of taxids in seqdata\n",
    "\n",
    "taxid2genbanks = Dict{Int,Array{String}}(ids[i] => unique(seqdata[cum[i]+1:cum[i+1],2]) for i in 1:length(ids));"
   ]
  },
  {
   "cell_type": "markdown",
   "metadata": {},
   "source": [
    "### genbank &rightarrow; seqinfo = [seqid, category, seq_length, ncount, description], genbank &rightarrow; L, genbank &rightarrow; refseq\n",
    "\"seqid\" is a UUID given by CRISPRCasdb unique to each sequence.  \n",
    "\"category\": 1 = circular, 2 = linear  \n",
    "\"description\" says whether sequence is chromosome or plasmid (we do not make a distinction in our analysis).  \n",
    "L is sum of all seq_length of a strain."
   ]
  },
  {
   "cell_type": "code",
   "execution_count": 11,
   "metadata": {},
   "outputs": [],
   "source": [
    "gs, cum = get_cum_sortedarr(seqdata[:,2]) # cumulative frequencies of genbanks in seqdata\n",
    "\n",
    "seqinfo = [seqdata[i,4:8] for i in 1:size(seqdata,1)] # [seqid, category, seq_length, ncount, description]\n",
    "\n",
    "genbank2seqinfo = Dict{String,Array}(gs[i] => seqinfo[cum[i]+1:cum[i+1]] for i in 1:length(gs))\n",
    "genbank2L = Dict{String,Int}(g => sum([s[3] for s in genbank2seqinfo[g]]) for g in gs)\n",
    "genbank2refseq = Dict{String,String}(gs[i] => seqdata[cum[i]+1,3] for i in 1:length(gs));"
   ]
  },
  {
   "cell_type": "markdown",
   "metadata": {},
   "source": [
    "## Step 2: Define cas subtype variables\n",
    "### caslocus &rightarrow; subtype\n",
    "\"CAS\" = subtype not given"
   ]
  },
  {
   "cell_type": "code",
   "execution_count": 12,
   "metadata": {},
   "outputs": [],
   "source": [
    "caslocus2subtype = Dict{Array,String}(casloci[i] => casdata[i,5] for i in 1:size(casdata,1));"
   ]
  },
  {
   "cell_type": "markdown",
   "metadata": {},
   "source": [
    "### genbank &rightarrow; subtype\n",
    "\"M\" = strain contains multiple subtypes of cas loci  \n",
    "See `analysis-by-subtype.ipynb` for the 12 subtypes we analyze."
   ]
  },
  {
   "cell_type": "code",
   "execution_count": 13,
   "metadata": {},
   "outputs": [],
   "source": [
    "genbank2subtype = Dict{String,String}()\n",
    "\n",
    "for g in keys(genbank2casloci)\n",
    "    sts = [caslocus2subtype[c] for c in genbank2casloci[g]]\n",
    "    if length(unique(sts)) == 1\n",
    "        genbank2subtype[g] = sts[1]\n",
    "    else\n",
    "        genbank2subtype[g] = \"M\" # multiple subtypes\n",
    "    end\n",
    "end"
   ]
  },
  {
   "cell_type": "code",
   "execution_count": 14,
   "metadata": {},
   "outputs": [],
   "source": [
    "subtypes_bytype = [[\"CAS-TypeI\"*a for a in [\"A\",\"B\",\"C\",\"D\",\"E\",\"F\",\"U\"]], # type I\n",
    "                   [\"CAS-TypeII\"*a for a in [\"A\",\"B\",\"C\"]], # type II\n",
    "                   [\"CAS-TypeIII\"*a for a in [\"A\",\"B\",\"C\",\"D\"]], # type III\n",
    "                   [\"CAS-TypeIV\"], # type IV\n",
    "                   [\"CAS-TypeV\"*a for a in [\"A\",\"B\"]], # type V\n",
    "                   [\"CAS-TypeVI\"*a for a in [\"A\",\"B1\",\"B2\",\"C\"]]] # type VI\n",
    "\n",
    "# for labeling plots\n",
    "subtypes_bytype1 = [[\"I-\"*a for a in [\"A\",\"B\",\"C\",\"D\",\"E\",\"F\",\"U\"]], # type I\n",
    "                    [\"II-\"*a for a in [\"A\",\"B\",\"C\"]], # type II\n",
    "                    [\"III-\"*a for a in [\"A\",\"B\",\"C\",\"D\"]], # type III\n",
    "                    [\"IV\"], # type IV\n",
    "                    [\"V-\"*a for a in [\"A\",\"B\"]], # type V\n",
    "                    [\"VI-\"*a for a in [\"A\",\"B1\",\"B2\",\"C\"]]] # type VI\n",
    "\n",
    "subtypes_all = vcat([\"M\"],[\"CAS\"],subtypes_bytype...);"
   ]
  },
  {
   "cell_type": "markdown",
   "metadata": {},
   "source": [
    "## Step 3: Group strains (including those without CRISPR/cas) by species\n",
    "### taxid &rightarrow; speciesid/genusid"
   ]
  },
  {
   "cell_type": "code",
   "execution_count": 15,
   "metadata": {},
   "outputs": [
    {
     "name": "stdout",
     "output_type": "stream",
     "text": [
      "Warning: taxid 2740462 has no species-level parent. Using genus instead.\n"
     ]
    }
   ],
   "source": [
    "taxid2speciesid = Dict{Int,Int}()\n",
    "\n",
    "for t0 in keys(taxid2genbanks)\n",
    "    t = t0\n",
    "    while taxid2rank[t] != \"species\"\n",
    "        t = taxid2parentid[t]\n",
    "        if taxid2rank[t] == \"genus\"\n",
    "            println(\"Warning: taxid $t0 has no species-level parent. Using genus instead.\")\n",
    "            break\n",
    "        end\n",
    "    end\n",
    "    taxid2speciesid[t0] = t\n",
    "end"
   ]
  },
  {
   "cell_type": "code",
   "execution_count": 16,
   "metadata": {},
   "outputs": [],
   "source": [
    "# # print phylogeny of taxon t\n",
    "# t = 1235284\n",
    "# println(taxid2name[t],\"\\t\",taxid2rank[t])\n",
    "# while taxid2rank[t] != \"superkingdom\"\n",
    "#     t = taxid2parentid[t]\n",
    "#     println(taxid2name[t],\"\\t\",taxid2rank[t])\n",
    "# end"
   ]
  },
  {
   "cell_type": "code",
   "execution_count": 17,
   "metadata": {},
   "outputs": [],
   "source": [
    "# taxid2genusid = Dict{Int,Int}()\n",
    "\n",
    "# # because not all strains have an assigned genus\n",
    "# ranks = [\"genus\",\"family\",\"order\",\"class\",\"phylum\",\"superkingdom\"]\n",
    "\n",
    "# for t0 in keys(taxid2genbanks)\n",
    "#     t = t0\n",
    "#     while true\n",
    "#         t = taxid2parentid[t]\n",
    "#         ind = findfirst(x->x==taxid2rank[t],ranks)\n",
    "#         if ind != nothing\n",
    "#             taxid2genusid[t0] = t\n",
    "#             if ind > 1\n",
    "#                 println(\"Warning: taxid $t0 has no genus-level parent. Using $(taxid2rank[t]) instead.\")\n",
    "#             end\n",
    "#             break\n",
    "#         end\n",
    "#     end\n",
    "# end"
   ]
  },
  {
   "cell_type": "code",
   "execution_count": 18,
   "metadata": {},
   "outputs": [],
   "source": [
    "# ##################################################\n",
    "# # uncomment to do genus-level filtering in `analysis-across-species.ipynb`\n",
    "# ##################################################\n",
    "# taxid2speciesid = taxid2genusid;"
   ]
  },
  {
   "cell_type": "markdown",
   "metadata": {},
   "source": [
    "### speciesid &rightarrow; genbanks/kingdom"
   ]
  },
  {
   "cell_type": "code",
   "execution_count": 19,
   "metadata": {},
   "outputs": [],
   "source": [
    "speciesid2genbanks = Dict{Int,Array{String}}()\n",
    "\n",
    "for (t,gs) in taxid2genbanks\n",
    "    s = taxid2speciesid[t]\n",
    "    if haskey(speciesid2genbanks,s)\n",
    "        speciesid2genbanks[s] = vcat(speciesid2genbanks[s],gs)\n",
    "    else\n",
    "        speciesid2genbanks[s] = copy(gs)\n",
    "    end\n",
    "end\n",
    "\n",
    "# sort genbanks of each speciesid\n",
    "for s in keys(speciesid2genbanks)\n",
    "    speciesid2genbanks[s] = sort(speciesid2genbanks[s])\n",
    "end"
   ]
  },
  {
   "cell_type": "code",
   "execution_count": 20,
   "metadata": {},
   "outputs": [],
   "source": [
    "speciesid2kingdom = Dict{Int,String}()\n",
    "\n",
    "for t0 in keys(speciesid2genbanks)\n",
    "    t = t0\n",
    "    while taxid2rank[t] != \"superkingdom\"\n",
    "        t = taxid2parentid[t]\n",
    "    end\n",
    "    speciesid2kingdom[t0] = taxid2name[t]\n",
    "end"
   ]
  },
  {
   "cell_type": "markdown",
   "metadata": {},
   "source": [
    "## Step 4: Group strains by presence/absense of CRISPR and cas\n",
    "### genbank &rightarrow; cid, speciesid &rightarrow; cids\n",
    "cid: 0 = CRISPR-cas-, 1 = CRISPR+cas-, 2 = CRISPR-cas+, and 3 = CRISPR+cas+."
   ]
  },
  {
   "cell_type": "code",
   "execution_count": 21,
   "metadata": {},
   "outputs": [],
   "source": [
    "genbank2cid = Dict{String,Int}()\n",
    "\n",
    "for (t,gs) in taxid2genbanks\n",
    "    for g in gs\n",
    "        cid = 0\n",
    "        if haskey(genbank2crisprloci,g)\n",
    "            cid += 1\n",
    "        end\n",
    "        if haskey(genbank2casloci,g)\n",
    "            cid += 2\n",
    "        end\n",
    "        genbank2cid[g] = cid\n",
    "    end\n",
    "end"
   ]
  },
  {
   "cell_type": "code",
   "execution_count": 22,
   "metadata": {},
   "outputs": [],
   "source": [
    "speciesid2cids = Dict{Int,Array{Int}}(s => [genbank2cid[g] for g in gs] for (s,gs) in speciesid2genbanks);"
   ]
  },
  {
   "cell_type": "markdown",
   "metadata": {},
   "source": [
    "## Step 5: Compile CRISPR+cas+, CRISPR+cas-, CRISPR-cas+, and CRISPR+ strains by species\n",
    "### speciesid &rightarrow; genbanks_cc/cnc/ncc/c\n",
    "\"cc\" = CRISPR+cas+, \"cnc\" = CRISPR+cas-, \"ncc\" = CRISPR-cas+, and \"c\" = CRISPR+."
   ]
  },
  {
   "cell_type": "code",
   "execution_count": 23,
   "metadata": {},
   "outputs": [],
   "source": [
    "speciesid2genbanks_cc = Dict{Int,Array{String}}()\n",
    "speciesid2genbanks_cnc = Dict{Int,Array{String}}()\n",
    "speciesid2genbanks_c = Dict{Int,Array{String}}()\n",
    "speciesid2genbanks_ncc = Dict{Int,Array{String}}()\n",
    "\n",
    "for (s,cids) in speciesid2cids\n",
    "    # CRISPR+cas+\n",
    "    inds = findall(x->x==3,cids)\n",
    "    if length(inds) > 0\n",
    "        speciesid2genbanks_cc[s] = speciesid2genbanks[s][inds]\n",
    "    end\n",
    "    # CRISPR+cas-\n",
    "    inds = findall(x->x==1,cids)\n",
    "    if length(inds) > 0\n",
    "        speciesid2genbanks_cnc[s] = speciesid2genbanks[s][inds]\n",
    "    end\n",
    "    # CRISPR+\n",
    "    inds = findall(x->x==1||x==3,cids)\n",
    "    if length(inds) > 0\n",
    "        speciesid2genbanks_c[s] = speciesid2genbanks[s][inds]\n",
    "    end\n",
    "    # CRISPR-cas+\n",
    "    inds = findall(x->x==2,cids)\n",
    "    if length(inds) > 0\n",
    "        speciesid2genbanks_ncc[s] = speciesid2genbanks[s][inds]\n",
    "    end\n",
    "end"
   ]
  },
  {
   "cell_type": "code",
   "execution_count": null,
   "metadata": {},
   "outputs": [],
   "source": []
  }
 ],
 "metadata": {
  "kernelspec": {
   "display_name": "Julia 1.6.5",
   "language": "julia",
   "name": "julia-1.6"
  },
  "language_info": {
   "file_extension": ".jl",
   "mimetype": "application/julia",
   "name": "julia",
   "version": "1.6.5"
  }
 },
 "nbformat": 4,
 "nbformat_minor": 2
}
