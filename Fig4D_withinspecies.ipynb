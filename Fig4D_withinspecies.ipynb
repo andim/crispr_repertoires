{
 "cells": [
  {
   "cell_type": "markdown",
   "metadata": {},
   "source": [
    "# Repertoire size distributions within highly sampled species\n",
    "This Notebook generates Fig. 4D."
   ]
  },
  {
   "cell_type": "code",
   "execution_count": 1,
   "metadata": {},
   "outputs": [
    {
     "name": "stdout",
     "output_type": "stream",
     "text": [
      "Warning: taxid 2740462 has no species-level parent. Using genus instead.\n"
     ]
    }
   ],
   "source": [
    "using NBInclude\n",
    "@nbinclude(\"CRISPRCasdb.ipynb\")\n",
    "\n",
    "using Statistics, PyPlot, Random\n",
    "rc(:svg,fonttype=:none)\n",
    "\n",
    "include(\"get_repertoires.jl\");"
   ]
  },
  {
   "cell_type": "markdown",
   "metadata": {},
   "source": [
    "## No. of sampled strains by species"
   ]
  },
  {
   "cell_type": "code",
   "execution_count": 2,
   "metadata": {},
   "outputs": [],
   "source": [
    "speciesid2num_genbanks_cc = Dict{Int,Int}(s => length(speciesid2genbanks_cc[s]) for s in keys(speciesid2genbanks_cc));"
   ]
  },
  {
   "cell_type": "code",
   "execution_count": 3,
   "metadata": {},
   "outputs": [
    {
     "data": {
      "image/png": "[encoded data removed]",
      "text/plain": [
       "Figure(PyObject <Figure size 640x480 with 1 Axes>)"
      ]
     },
     "metadata": {},
     "output_type": "display_data"
    }
   ],
   "source": [
    "hist(log10.(values(speciesid2num_genbanks_cc)), bins=log10.(vcat(1:10,20:10:100,200:100:1000,2000)))\n",
    "\n",
    "xlabel(\"number of strains\")\n",
    "ylabel(\"number of species\")\n",
    "\n",
    "xticks(log10.(vcat(collect(1:10),collect(20:10:100),collect(200:100:1000),2000)),\n",
    "    string.(vcat([\"1\"],fill(\"\",8),[\"10\"],fill(\"\",8),[\"100\"],fill(\"\",8),[\"1000\",\"\"])))\n",
    "\n",
    "yscale(:log)\n",
    "\n",
    "xmin, xmax = xlim()\n",
    "xlim(0,xmax);"
   ]
  },
  {
   "cell_type": "markdown",
   "metadata": {},
   "source": [
    "### repertoire size, mean spacer length, spacer lengths, and cas subtype of strains in each species"
   ]
  },
  {
   "cell_type": "code",
   "execution_count": 4,
   "metadata": {},
   "outputs": [],
   "source": [
    "speciesids = collect(keys(speciesid2genbanks_cc)) # all species ids\n",
    "p = sortperm([speciesid2num_genbanks_cc[s] for s in speciesids], rev=true) # sort by decreasing numboer of samples\n",
    "speciesids = speciesids[p];"
   ]
  },
  {
   "cell_type": "code",
   "execution_count": 5,
   "metadata": {},
   "outputs": [],
   "source": [
    "speciesid2repsizes_cc = Dict{Int,Array{Int}}()\n",
    "# speciesid2spacerlens_cc = Dict{Int,Array{Array{Int}}}()\n",
    "\n",
    "for s in speciesids\n",
    "    num_gbs, repsizes, spacerlens = get_repertoires(speciesid2genbanks_cc[s], verbose=0)\n",
    "    \n",
    "    speciesid2repsizes_cc[s] = repsizes\n",
    "#     speciesid2spacerlens_cc[s] = spacerlens\n",
    "end"
   ]
  },
  {
   "cell_type": "code",
   "execution_count": 6,
   "metadata": {},
   "outputs": [],
   "source": [
    "speciesid2subtypes_cc = Dict{Int,Array{String}}(s => [genbank2subtype[g] for g in speciesid2genbanks_cc[s]] for s in keys(speciesid2genbanks_cc));"
   ]
  },
  {
   "cell_type": "markdown",
   "metadata": {},
   "source": [
    "## Focus on the most highly sampled species\n",
    "\"_spec\" refers to this subset of highly sampled species."
   ]
  },
  {
   "cell_type": "code",
   "execution_count": 7,
   "metadata": {},
   "outputs": [],
   "source": [
    "num_samples = 50 # threshold number of samples\n",
    "\n",
    "speciesids_spec = Int[]\n",
    "names0_spec = String[]\n",
    "repsizes_spec = Array{Int}[]\n",
    "subtypes_spec = Array{String}[]\n",
    "\n",
    "for s in speciesids\n",
    "    if speciesid2num_genbanks_cc[s] >= num_samples\n",
    "        push!(speciesids_spec,s)\n",
    "        push!(names0_spec,taxid2name[s])\n",
    "        push!(repsizes_spec,speciesid2repsizes_cc[s])\n",
    "        push!(subtypes_spec,speciesid2subtypes_cc[s])\n",
    "    end\n",
    "end\n",
    "\n",
    "names_spec = [\"$(split(name)[1][1]). $(split(name)[2])\" for name in names0_spec];"
   ]
  },
  {
   "cell_type": "markdown",
   "metadata": {},
   "source": [
    "### count the number of samples with each given subtype"
   ]
  },
  {
   "cell_type": "code",
   "execution_count": 8,
   "metadata": {},
   "outputs": [],
   "source": [
    "unique_subtypes_spec = sort.(unique.(subtypes_spec))\n",
    "num_bysubtype_spec = Array{Int}[]\n",
    "\n",
    "for i in 1:length(subtypes_spec)\n",
    "    push!(num_bysubtype_spec, [count(x->x==st, subtypes_spec[i]) for st in unique_subtypes_spec[i]])\n",
    "end"
   ]
  },
  {
   "cell_type": "markdown",
   "metadata": {},
   "source": [
    "### get repertoire sizes of species + subtype combinations\n",
    "\"_spst\" refers to species + subtype combinations."
   ]
  },
  {
   "cell_type": "code",
   "execution_count": 9,
   "metadata": {},
   "outputs": [],
   "source": [
    "spst2repsizes = Dict{Array{String},Array{Int}}()\n",
    "\n",
    "for i in 1:length(names_spec)\n",
    "    for j in 1:length(unique_subtypes_spec[i])\n",
    "        if num_bysubtype_spec[i][j] >= 50 # threshold on >= 50 samples with species-subtype combination\n",
    "            inds = findall(x->x==unique_subtypes_spec[i][j], speciesid2subtypes_cc[speciesids_spec[i]])\n",
    "            spst2repsizes[[names_spec[i],unique_subtypes_spec[i][j]]] = repsizes_spec[i][inds]\n",
    "        end\n",
    "    end\n",
    "end"
   ]
  },
  {
   "cell_type": "code",
   "execution_count": 10,
   "metadata": {},
   "outputs": [
    {
     "name": "stdout",
     "output_type": "stream",
     "text": [
      "E. coli\tCAS-TypeIE\t19.0\t10.0\t0.54\n",
      "S. thermophilus\tM\t46.0\t18.0\t0.38\n",
      "X. oryzae\tCAS-TypeIC\t76.0\t18.0\t0.24\n",
      "A. baumannii\tCAS-TypeIF\t78.0\t41.0\t0.53\n",
      "M. tuberculosis\tCAS-TypeIIIA\t31.0\t13.0\t0.42\n",
      "S. agalactiae\tCAS-TypeIIA\t12.0\t7.4\t0.61\n",
      "P. multocida\tCAS-TypeIF\t44.0\t26.0\t0.58\n",
      "Y. pestis\tCAS-TypeIF\t12.0\t3.9\t0.31\n",
      "K. pneumoniae\tCAS-TypeIE\t32.0\t14.0\t0.44\n",
      "M. haemolytica\tCAS-TypeIC\t12.0\t4.8\t0.39\n",
      "P. aeruginosa\tCAS-TypeIF\t42.0\t12.0\t0.28\n",
      "C. difficile\tCAS-TypeIB\t98.0\t31.0\t0.31\n",
      "S. enterica\tCAS-TypeIE\t34.0\t21.0\t0.62\n",
      "C. jejuni\tCAS-TypeIIC\t4.3\t3.4\t0.8\n",
      "S. pyogenes\tM\t6.8\t3.9\t0.58\n",
      "E. coli\tCAS-TypeIF\t16.0\t7.4\t0.46\n",
      "L. monocytogenes\tCAS-TypeIIA\t34.0\t7.7\t0.23\n"
     ]
    }
   ],
   "source": [
    "for spst in keys(spst2repsizes)\n",
    "    println(spst[1],\"\\t\",spst[2],\"\\t\",round(mean(spst2repsizes[spst]),sigdigits=2),\"\\t\",round(std(spst2repsizes[spst]),sigdigits=2),\"\\t\",round(std(spst2repsizes[spst])/mean(spst2repsizes[spst]),sigdigits=2))\n",
    "end"
   ]
  },
  {
   "cell_type": "markdown",
   "metadata": {},
   "source": [
    "## Fig. 4C: Spacer repertoire size distributions"
   ]
  },
  {
   "cell_type": "code",
   "execution_count": 11,
   "metadata": {},
   "outputs": [],
   "source": [
    "colors_s = vcat([[get_cmap(\"Blues\",8)(i) for i in 1:7],\n",
    "                 [get_cmap(\"Greens\",3)(i) for i in 1:2]]...);"
   ]
  },
  {
   "cell_type": "code",
   "execution_count": 12,
   "metadata": {},
   "outputs": [],
   "source": [
    "# choose 4 pairs of species-subtype combinations\n",
    "\n",
    "stvec = [\"CAS-TypeIE\",\"CAS-TypeIF\",\"CAS-TypeIC\",\"CAS-TypeIIA\"]\n",
    "st2vec = [\"I-E\",\"I-F\",\"I-C\",\"II-A\"]\n",
    "cvec = [colors_s[5],colors_s[6],colors_s[3],colors_s[8]]\n",
    "\n",
    "namevec = [\"E. coli\", \"S. enterica\", \"E. coli\", \"P. aeruginosa\", \"M. haemolytica\", \"X. oryzae\", \"S. agalactiae\", \"L. monocytogenes\"];"
   ]
  },
  {
   "cell_type": "code",
   "execution_count": 13,
   "metadata": {},
   "outputs": [
    {
     "data": {
      "image/png": "[encoded data removed]",
      "text/plain": [
       "Figure(PyObject <Figure size 700x250 with 8 Axes>)"
      ]
     },
     "metadata": {},
     "output_type": "display_data"
    },
    {
     "data": {
      "text/plain": [
       "PyObject Text(0.41, -0.05, 'repertoire size')"
      ]
     },
     "execution_count": 13,
     "metadata": {},
     "output_type": "execute_result"
    }
   ],
   "source": [
    "ni = 2\n",
    "nj = 4\n",
    "\n",
    "fig, axs = subplots(ni, nj, figsize=(7, 2.5), sharex=true, sharey=false)\n",
    "\n",
    "fs = 13\n",
    "\n",
    "for j in 1:nj, i in 1:ni\n",
    "    k = (j-1)*ni + i # index in spec_toplot\n",
    "    spst = [namevec[k],stvec[j]]\n",
    "    \n",
    "    axs[i,j].hist(spst2repsizes[spst], bins=0:5:110, color=cvec[j]) # bins of width 5\n",
    "    \n",
    "    # plot mean\n",
    "    ymin, ymax = axs[i,j].get_ylim()\n",
    "    axs[i,j].vlines(mean(spst2repsizes[spst]), 0, ymax, color=\"cyan\", linewidth=1)\n",
    "    \n",
    "    n = length(spst2repsizes[spst])\n",
    "#     cv = round(std(spst2repsizes[spst])/mean(spst2repsizes[spst]),sigdigits=2)\n",
    "    r_cv = round(std(spst2repsizes[spst])/sqrt(mean(spst2repsizes[spst])),sigdigits=2)\n",
    "    \n",
    "    axs[i,j].set_title(\"$(namevec[k])\\n($(st2vec[j]))\", fontsize=fs-1, loc=\"center\", y=0.65)\n",
    "#     axs[i,j].set_title(\"\\$c_v=$cv\\$\\n\\$n=$n\\$\", fontsize=fs-2, loc=\"right\", y=-0.05)\n",
    "    axs[i,j].set_title(\"\\$r_{cv}=$r_cv\\$\\n\\$n=$n\\$\", fontsize=fs-2, loc=\"right\", y=-0.05)\n",
    "    axs[i,j].set_xticks(0:50:100)\n",
    "    axs[i,j].set_xticklabels(0:50:100, fontsize=fs-1)\n",
    "    axs[i,j].set_yticks([])\n",
    "    \n",
    "    axs[i,j].spines[\"top\"].set_visible(false)\n",
    "    axs[i,j].spines[\"right\"].set_visible(false)\n",
    "    axs[i,j].spines[\"left\"].set_visible(false)\n",
    "end\n",
    "\n",
    "fig.text(0.41,-0.05,\"repertoire size\", fontsize=fs)\n",
    "# fig.text(0.095,0.19,\"number of samples\", fontsize=fs, rotation=\"vertical\")\n",
    "\n",
    "# savefig(\"repsizes_spec_subtype.svg\",format=\"svg\")"
   ]
  },
  {
   "cell_type": "markdown",
   "metadata": {},
   "source": [
    "### permutation test"
   ]
  },
  {
   "cell_type": "code",
   "execution_count": 14,
   "metadata": {},
   "outputs": [
    {
     "data": {
      "text/plain": [
       "22.087256027554535"
      ]
     },
     "execution_count": 14,
     "metadata": {},
     "output_type": "execute_result"
    }
   ],
   "source": [
    "repsizes1 = spst2repsizes[[namevec[7],stvec[4]]]\n",
    "mean1 = mean(repsizes1)\n",
    "repsizes2 = spst2repsizes[[namevec[8],stvec[4]]]\n",
    "mean2 = mean(repsizes2)\n",
    "\n",
    "mean2-mean1"
   ]
  },
  {
   "cell_type": "code",
   "execution_count": 15,
   "metadata": {},
   "outputs": [],
   "source": [
    "num = 10^6\n",
    "\n",
    "diffs = Float64[]\n",
    "\n",
    "for i in 1:num\n",
    "    repsizes_shuf = shuffle(vcat(repsizes1,repsizes2))\n",
    "    r1 = repsizes_shuf[1:length(repsizes1)]\n",
    "    r2 = repsizes_shuf[length(repsizes1)+1:end]\n",
    "    \n",
    "    m1 = mean(r1)\n",
    "    m2 = mean(r2)\n",
    "    \n",
    "    push!(diffs,m2-m1)\n",
    "end"
   ]
  },
  {
   "cell_type": "code",
   "execution_count": 16,
   "metadata": {},
   "outputs": [
    {
     "data": {
      "text/plain": [
       "0.0"
      ]
     },
     "execution_count": 16,
     "metadata": {},
     "output_type": "execute_result"
    }
   ],
   "source": [
    "count(x->x>mean2-mean1, diffs)/num"
   ]
  },
  {
   "cell_type": "code",
   "execution_count": null,
   "metadata": {},
   "outputs": [],
   "source": []
  }
 ],
 "metadata": {
  "kernelspec": {
   "display_name": "Julia 1.6.5",
   "language": "julia",
   "name": "julia-1.6"
  },
  "language_info": {
   "file_extension": ".jl",
   "mimetype": "application/julia",
   "name": "julia",
   "version": "1.6.5"
  }
 },
 "nbformat": 4,
 "nbformat_minor": 2
}
