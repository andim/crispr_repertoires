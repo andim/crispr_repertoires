{
 "cells": [
  {
   "cell_type": "markdown",
   "metadata": {},
   "source": [
    "# Analysis of strains grouped by cas subtype\n",
    "This Notebook generates the following plots:\n",
    "* Fig. 3A\n",
    "* Fig. 3B\n",
    "* Fig. 3C\n",
    "* Fig. S4A\n",
    "* Fig. S4B\n",
    "* Fig. R3"
   ]
  },
  {
   "cell_type": "code",
   "execution_count": 1,
   "metadata": {},
   "outputs": [
    {
     "name": "stdout",
     "output_type": "stream",
     "text": [
      "Warning: taxid 2740462 has no species-level parent. Using genus instead.\n"
     ]
    }
   ],
   "source": [
    "using DelimitedFiles, Random, Statistics, PyPlot\n",
    "rc(:svg,fonttype=:none)\n",
    "\n",
    "using NBInclude\n",
    "@nbinclude(\"CRISPRCasdb.ipynb\")\n",
    "\n",
    "include(\"get_repertoires.jl\")\n",
    "include(\"linreg.jl\")\n",
    "include(\"bin.jl\")\n",
    "\n",
    "get_freqs_l(lens::Array{Int}; lmin, lmax) = [count(x->x==l,lens) for l in lmin:lmax]\n",
    "\n",
    "lin(x;m=0,c=0) = m*x + c # linear function\n",
    "\n",
    "bs = 200 # binsize (NOTE: Fig. 2c used 50)\n",
    "ml = false;"
   ]
  },
  {
   "cell_type": "markdown",
   "metadata": {},
   "source": [
    "## Read strains from file\n",
    "* `gbs_cc.csv`: filtered by species\n",
    "* `gbs_cc_filter.csv`: filtered by species and additionally to share zero spacers between them (see `analysis-shared-spacers.ipynb`)\n",
    "\n",
    "Note: gbs are randomly shuffled to eliminate systematic bias when binning."
   ]
  },
  {
   "cell_type": "code",
   "execution_count": 2,
   "metadata": {},
   "outputs": [],
   "source": [
    "fc = \"filtered/gbs_cc_filter.csv\"\n",
    "# fc = \"filtered/gbs_cc.csv\"\n",
    "\n",
    "gbdata = readdlm(fc,',')\n",
    "p_gbs = randperm(size(gbdata,1))\n",
    "speciesids = gbdata[p_gbs,1]\n",
    "gbs = gbdata[p_gbs,2];"
   ]
  },
  {
   "cell_type": "markdown",
   "metadata": {},
   "source": [
    "## Subtypes with sufficient data for analysis\n",
    "12 subtypes have >10 species in CRISPRCasdb."
   ]
  },
  {
   "cell_type": "code",
   "execution_count": 3,
   "metadata": {},
   "outputs": [],
   "source": [
    "subtypes_s = vcat([[\"CAS-TypeI\"*a for a in [\"A\",\"B\",\"C\",\"D\",\"E\",\"F\",\"U\"]], # type I\n",
    "                   [\"CAS-TypeII\"*a for a in [\"A\",\"C\"]], # type II\n",
    "                   [\"CAS-TypeIII\"*a for a in [\"A\",\"B\",\"D\"]]]...) # type III\n",
    "\n",
    "# for labeling plots\n",
    "subtypes_s1 = vcat([[\"I-\"*a for a in [\"A\",\"B\",\"C\",\"D\",\"E\",\"F\",\"U\"]], # type I\n",
    "                    [\"II-\"*a for a in [\"A\",\"C\"]], # type II\n",
    "                    [\"III-\"*a for a in [\"A\",\"B\",\"D\"]]]...) # type III\n",
    "\n",
    "num_s = length(subtypes_s)\n",
    "\n",
    "# for plotting\n",
    "ni = 4 # vertical\n",
    "nj = 3 # horizontal\n",
    "colors_s = vcat([[get_cmap(\"Blues\",8)(i) for i in 1:7],\n",
    "                 [get_cmap(\"Greens\",3)(i) for i in 1:2],\n",
    "                 [get_cmap(\"Reds\",4)(i) for i in 1:3]]...)\n",
    "\n",
    "# for comparing between the 12 type I, II and III subtypes\n",
    "PAM_s = vcat(3*ones(9),zeros(3))\n",
    "\n",
    "# order of subtypes in plots (ordered by 25th percentile of spacer lengths for types II, I, and III)\n",
    "p_s = [8,9,5,6,3,2,4,7,1,11,12,10];"
   ]
  },
  {
   "cell_type": "markdown",
   "metadata": {},
   "source": [
    "### subtype &rightarrow; gbs, subtype &rightarrow; no. of gbs\n",
    "Strains carrying multiple subtypes are assigned to group \"M\"."
   ]
  },
  {
   "cell_type": "code",
   "execution_count": 4,
   "metadata": {
    "scrolled": false
   },
   "outputs": [
    {
     "data": {
      "text/plain": [
       "Dict{String, Int64} with 23 entries:\n",
       "  \"CAS-TypeIIID\" => 29\n",
       "  \"CAS-TypeIIIC\" => 1\n",
       "  \"CAS-TypeVIB2\" => 0\n",
       "  \"CAS-TypeIV\"   => 4\n",
       "  \"CAS-TypeIIC\"  => 291\n",
       "  \"M\"            => 843\n",
       "  \"CAS-TypeIA\"   => 22\n",
       "  \"CAS-TypeIF\"   => 201\n",
       "  \"CAS-TypeIIA\"  => 98\n",
       "  \"CAS-TypeIU\"   => 53\n",
       "  \"CAS\"          => 22\n",
       "  \"CAS-TypeVIC\"  => 0\n",
       "  \"CAS-TypeVIB1\" => 1\n",
       "  \"CAS-TypeIE\"   => 438\n",
       "  \"CAS-TypeIB\"   => 192\n",
       "  \"CAS-TypeIIB\"  => 8\n",
       "  \"CAS-TypeVA\"   => 8\n",
       "  \"CAS-TypeIIIA\" => 32\n",
       "  \"CAS-TypeVIA\"  => 0\n",
       "  \"CAS-TypeIC\"   => 278\n",
       "  \"CAS-TypeID\"   => 19\n",
       "  \"CAS-TypeVB\"   => 1\n",
       "  \"CAS-TypeIIIB\" => 36"
      ]
     },
     "execution_count": 4,
     "metadata": {},
     "output_type": "execute_result"
    }
   ],
   "source": [
    "s2gbs = Dict{String,Array{String}}(st => gbs[findall(g->genbank2subtype[g]==st,gbs)] for st in subtypes_all)\n",
    "s2num_gbs = Dict{String,Int}(st => length(s2gbs[st]) for st in subtypes_all)"
   ]
  },
  {
   "cell_type": "markdown",
   "metadata": {},
   "source": [
    "### subtype &rightarrow; repertoire size of each strain, subtype &rightarrow; all spacer lengths of each strain"
   ]
  },
  {
   "cell_type": "code",
   "execution_count": 5,
   "metadata": {},
   "outputs": [],
   "source": [
    "subtypes_all2 = copy(subtypes_all)\n",
    "filter!(s->s2num_gbs[s]>0,subtypes_all2) # subtypes with nonzero data;"
   ]
  },
  {
   "cell_type": "code",
   "execution_count": 6,
   "metadata": {},
   "outputs": [],
   "source": [
    "s2N_gbs = Dict{String,Array{Int}}()\n",
    "s2lens_gbs = Dict{String,Array{Array{Int}}}()\n",
    "\n",
    "for s in subtypes_all2\n",
    "    num_gbs1, repsizes1, spacerlens1 = get_repertoires(s2gbs[s], verbose=0)\n",
    "    \n",
    "    s2N_gbs[s] = repsizes1\n",
    "    s2lens_gbs[s] = spacerlens1\n",
    "end"
   ]
  },
  {
   "cell_type": "markdown",
   "metadata": {},
   "source": [
    "## Fig. 3A: Spacer length distributions by subtype\n",
    "Collate all spacers and plot length distributions for each subtype."
   ]
  },
  {
   "cell_type": "code",
   "execution_count": 7,
   "metadata": {},
   "outputs": [],
   "source": [
    "lens_collated_s = [vcat(s2lens_gbs[s]...) for s in subtypes_s]\n",
    "\n",
    "lmin = 25\n",
    "lmax = 50\n",
    "\n",
    "lens_hist_s = [get_freqs_l(lens_collated_s[i], lmin=lmin, lmax=lmax) for i in 1:num_s]\n",
    "\n",
    "# spacer length quantiles\n",
    "q10len_s = [round(Int,quantile(lens_collated_s[i], 0.1)) for i in 1:num_s]\n",
    "q25len_s = [round(Int,quantile(lens_collated_s[i], 0.25)) for i in 1:num_s]\n",
    "q50len_s = [round(Int,median(lens_collated_s[i])) for i in 1:num_s]\n",
    "q75len_s = [round(Int,quantile(lens_collated_s[i], 0.75)) for i in 1:num_s]\n",
    "\n",
    "# meanlen_s = [round(mean(lens_collated_s[i]), digits=1) for i in 1:num_s];"
   ]
  },
  {
   "cell_type": "code",
   "execution_count": 8,
   "metadata": {},
   "outputs": [
    {
     "data": {
      "text/plain": [
       "12×2 Matrix{Int64}:\n",
       " 37  39\n",
       " 35  36\n",
       " 34  34\n",
       " 35  36\n",
       " 32  32\n",
       " 32  32\n",
       " 35  36\n",
       " 30  30\n",
       " 30  30\n",
       " 36  39\n",
       " 34  36\n",
       " 35  37"
      ]
     },
     "execution_count": 8,
     "metadata": {},
     "output_type": "execute_result"
    }
   ],
   "source": [
    "[q25len_s q50len_s]"
   ]
  },
  {
   "cell_type": "code",
   "execution_count": 9,
   "metadata": {
    "scrolled": true
   },
   "outputs": [
    {
     "data": {
      "image/png": "[encoded data removed]",
      "text/plain": [
       "Figure(PyObject <Figure size 330x330 with 12 Axes>)"
      ]
     },
     "metadata": {},
     "output_type": "display_data"
    },
    {
     "data": {
      "text/plain": [
       "PyObject Text(0.07, 0.28, 'number of spacers')"
      ]
     },
     "execution_count": 9,
     "metadata": {},
     "output_type": "execute_result"
    }
   ],
   "source": [
    "fig, axs = subplots(ni, nj, figsize=(3.3, 3.3), sharex=true, sharey=false)\n",
    "\n",
    "fs = 8\n",
    "\n",
    "for i in 1:ni, j in 1:nj\n",
    "    n = (i-1)*nj + j\n",
    "    \n",
    "    axs[i,j].bar(lmin:lmax, lens_hist_s[p_s[n]], width=1, color=colors_s[p_s[n]])\n",
    "    \n",
    "    # indicate median and 25th percentile\n",
    "    ymin, ymax = axs[i,j].get_ylim()\n",
    "    axs[i,j].vlines(q25len_s[p_s[n]], 0, ymax, color=\"cyan\", linewidth=1, linestyle=\"--\")\n",
    "    axs[i,j].vlines(q50len_s[p_s[n]], 0, ymax, color=\"cyan\", linewidth=1)\n",
    "    \n",
    "    axs[i,j].set_title(subtypes_s1[p_s[n]], fontsize=fs+1, loc=\"right\", y=0.65)\n",
    "    axs[i,j].set_xticks(lmin:5:lmax)\n",
    "    axs[i,j].set_xticklabels(lmin:5:lmax, fontsize=fs-1)\n",
    "    axs[i,j].set_yticks([])\n",
    "    \n",
    "    axs[i,j].spines[\"top\"].set_visible(false)\n",
    "    axs[i,j].spines[\"right\"].set_visible(false)\n",
    "    axs[i,j].spines[\"left\"].set_visible(false)\n",
    "end\n",
    "\n",
    "fig.text(0.39,0.0,\"spacer length\", fontsize=fs+1)\n",
    "fig.text(0.07,0.28,\"number of spacers\", fontsize=fs+1, rotation=\"vertical\")\n",
    "\n",
    "# savefig(\"len_bysubtype.svg\",format=\"svg\")"
   ]
  },
  {
   "cell_type": "markdown",
   "metadata": {},
   "source": [
    "## Fig. 3B: Subtype operative length vs. repertoire size"
   ]
  },
  {
   "cell_type": "code",
   "execution_count": 10,
   "metadata": {},
   "outputs": [],
   "source": [
    "meanN_s = [mean(s2N_gbs[s]) for s in subtypes_s]\n",
    "stderrN_s = [std(s2N_gbs[s])/sqrt(s2num_gbs[s]) for s in subtypes_s];"
   ]
  },
  {
   "cell_type": "markdown",
   "metadata": {},
   "source": [
    "### linear regression"
   ]
  },
  {
   "cell_type": "code",
   "execution_count": 11,
   "metadata": {},
   "outputs": [],
   "source": [
    "dy = ones(length(meanN_s))\n",
    "m_fig1b, c_fig1b, dm_fig1b, dc_fig1b = linreg(x=meanN_s, y=q25len_s.+PAM_s, dy=dy)\n",
    "\n",
    "m1_fig1b = round(m_fig1b, digits=2)\n",
    "dm1_fig1b = round(dm_fig1b, digits=2);"
   ]
  },
  {
   "cell_type": "markdown",
   "metadata": {},
   "source": [
    "### plot"
   ]
  },
  {
   "cell_type": "code",
   "execution_count": 12,
   "metadata": {},
   "outputs": [
    {
     "data": {
      "image/png": "[encoded data removed]",
      "text/plain": [
       "Figure(PyObject <Figure size 640x480 with 1 Axes>)"
      ]
     },
     "metadata": {},
     "output_type": "display_data"
    }
   ],
   "source": [
    "fig, ax = subplots()\n",
    "\n",
    "# # plot linear fit\n",
    "# xrange = collect(0:10:100)\n",
    "# plot(xrange, lin.(xrange, m=m_fig1b, c=c_fig1b), alpha=0.5)\n",
    "\n",
    "y_offsets = zeros(num_s) # offset points for ease of visualization\n",
    "\n",
    "errorbar(meanN_s, q25len_s.+PAM_s.+y_offsets, linestyle=\"none\",\n",
    "    yerr=[q25len_s.-q10len_s, q50len_s.-q25len_s], xerr=stderrN_s,\n",
    "    elinewidth=1.5, capsize=0, ecolor=colors_s)\n",
    "\n",
    "scatter(meanN_s, q25len_s.+PAM_s.+y_offsets, s=10, color=colors_s)\n",
    "\n",
    "fs = 13\n",
    "for i in 1:num_s\n",
    "    text(meanN_s[i]+0.5, q25len_s[i]+PAM_s[i]+y_offsets[i]+0.1, subtypes_s1[i], fontsize=fs, color=colors_s[i])\n",
    "end\n",
    "\n",
    "ylabel(\"spacer + PAM length\", fontsize=fs)\n",
    "xlabel(\"mean repertoire size\", fontsize=fs)\n",
    "\n",
    "xlim(0,100)\n",
    "xticks(0:20:100, fontsize=fs-1)\n",
    "ylim(31.5,42.5)\n",
    "yticks(fontsize=fs-1)\n",
    "\n",
    "title(\"Subtype operative length vs. repertoire size\", fontsize=fs)\n",
    "# legend([\"fit, \\$l = ($m1_fig1b \\\\pm $dm1_fig1b)\\\\ N\\$ + const.\"], fontsize=fs-1, loc=\"upper left\")\n",
    "\n",
    "ax.spines[\"top\"].set_visible(false)\n",
    "ax.spines[\"right\"].set_visible(false)\n",
    "\n",
    "# savefig(\"len_v_N_bysubtype_fit.svg\",format=\"svg\")"
   ]
  },
  {
   "cell_type": "markdown",
   "metadata": {},
   "source": [
    "### 2b.ii) statistical significance of slope and rank correlation\n",
    "### significance of slope"
   ]
  },
  {
   "cell_type": "code",
   "execution_count": 13,
   "metadata": {},
   "outputs": [],
   "source": [
    "# num = Int(1e6)\n",
    "\n",
    "# m_values = zeros(num)\n",
    "\n",
    "# for i in 1:num\n",
    "#     m, c, dm, dc = linreg(x=shuffle(meanN_s), y=q25len_s.+PAM_s) # 25th percentile\n",
    "# #     m, c, dm, dc = linreg(x=shuffle(meanN_s), y=q50len_s.+PAM_s) # median\n",
    "#     m_values[i] = m\n",
    "# end"
   ]
  },
  {
   "cell_type": "code",
   "execution_count": 14,
   "metadata": {},
   "outputs": [],
   "source": [
    "# hist(m_values, bins=-0.15:0.01:0.15)\n",
    "\n",
    "# ymin, ymax = ylim()\n",
    "\n",
    "# vlines(m_fig1b, ymin, ymax)\n",
    "# # vlines(m_fig1b_med, ymin, ymax)"
   ]
  },
  {
   "cell_type": "code",
   "execution_count": 15,
   "metadata": {},
   "outputs": [],
   "source": [
    "# count(x->x>m_fig1b, m_values)/num\n",
    "# # count(x->x>m_fig1b_med, m_values)/num"
   ]
  },
  {
   "cell_type": "markdown",
   "metadata": {},
   "source": [
    "### rank correlation"
   ]
  },
  {
   "cell_type": "code",
   "execution_count": 16,
   "metadata": {},
   "outputs": [
    {
     "data": {
      "text/plain": [
       "12×4 Matrix{Float64}:\n",
       " 12.0  40.0  12.0  71.8182\n",
       "  9.0  38.0  11.0  70.901\n",
       "  8.0  37.0   7.0  53.2374\n",
       " 10.0  38.0  10.0  68.6316\n",
       "  4.0  35.0   9.0  64.1461\n",
       "  5.0  35.0   8.0  57.1194\n",
       " 11.0  38.0   6.0  51.9623\n",
       "  1.0  33.0   1.0  23.2653\n",
       "  2.0  33.0   3.0  29.2131\n",
       "  7.0  36.0   2.0  26.4062\n",
       "  3.0  34.0   4.0  41.1667\n",
       "  6.0  35.0   5.0  48.3103"
      ]
     },
     "execution_count": 16,
     "metadata": {},
     "output_type": "execute_result"
    }
   ],
   "source": [
    "# ranks of subtypes by operative length and by repertoire size\n",
    "[sortperm(sortperm(q25len_s .+ PAM_s)) q25len_s .+ PAM_s sortperm(sortperm(meanN_s)) meanN_s]"
   ]
  },
  {
   "cell_type": "code",
   "execution_count": 17,
   "metadata": {},
   "outputs": [
    {
     "data": {
      "text/plain": [
       "0.7460988895940301"
      ]
     },
     "execution_count": 17,
     "metadata": {},
     "output_type": "execute_result"
    }
   ],
   "source": [
    "p_len_s = [12,10,8,10,5,5,10,1.5,1.5,7,3,5]\n",
    "p_N_s = [12,11,7,10,9,8,6,1,3,2,4,5]\n",
    "\n",
    "spearman_s = cor(p_len_s,p_N_s)"
   ]
  },
  {
   "cell_type": "code",
   "execution_count": 18,
   "metadata": {
    "scrolled": true
   },
   "outputs": [
    {
     "data": {
      "text/plain": [
       "0.42278937076995043"
      ]
     },
     "execution_count": 18,
     "metadata": {},
     "output_type": "execute_result"
    }
   ],
   "source": [
    "p_fig_s = [9,6,5,7,3,4,8,1,2,12,10,11]\n",
    "\n",
    "cor(p_len_s,p_fig_s)"
   ]
  },
  {
   "cell_type": "code",
   "execution_count": 19,
   "metadata": {},
   "outputs": [],
   "source": [
    "# # p-value\n",
    "# num = 0\n",
    "# for i in 1:Int(1e6)\n",
    "#     if cor(p_len_s,shuffle(p_N_s)) > spearman_s\n",
    "#         num += 1\n",
    "#     end\n",
    "# end\n",
    "\n",
    "# num/1e6"
   ]
  },
  {
   "cell_type": "markdown",
   "metadata": {},
   "source": [
    "## Fig. 3C: Incidence of cas subtypes in multiple-subtype strains binned into 3 repertoire size bins\n",
    "### bin multiple-subtype strains"
   ]
  },
  {
   "cell_type": "code",
   "execution_count": 20,
   "metadata": {},
   "outputs": [],
   "source": [
    "binsize = 281\n",
    "\n",
    "ml = false\n",
    "\n",
    "inds_inbins_m = bin_equalheight(s2N_gbs[\"M\"], binsize=binsize, mergelast=ml);"
   ]
  },
  {
   "cell_type": "code",
   "execution_count": 21,
   "metadata": {},
   "outputs": [
    {
     "data": {
      "text/plain": [
       "3-element Vector{Vector{Int64}}:\n",
       " [1, 72]\n",
       " [72, 142]\n",
       " [142, 812]"
      ]
     },
     "execution_count": 21,
     "metadata": {},
     "output_type": "execute_result"
    }
   ],
   "source": [
    "# check repertoire size ranges in each of the 3 bins\n",
    "[[minimum(s2N_gbs[\"M\"][inds_inbins_m[i]]),maximum(s2N_gbs[\"M\"][inds_inbins_m[i]])] for i in 1:3]"
   ]
  },
  {
   "cell_type": "markdown",
   "metadata": {},
   "source": [
    "### number of times each cas subtype appears in each bin"
   ]
  },
  {
   "cell_type": "code",
   "execution_count": 22,
   "metadata": {},
   "outputs": [],
   "source": [
    "# get all subtypes in each of the multiple-subtype strains\n",
    "subtypes_m = [[caslocus2subtype[c] for c in genbank2casloci[gb]] for gb in s2gbs[\"M\"]];"
   ]
  },
  {
   "cell_type": "code",
   "execution_count": 23,
   "metadata": {},
   "outputs": [],
   "source": [
    "usage_cas_inbins_m = zeros(Int,num_s,3)\n",
    "\n",
    "for b in 1:3 # each bin\n",
    "    for ind in inds_inbins_m[b] # each strain in bin\n",
    "        for i in 1:num_s # each subtype\n",
    "            if in(subtypes_s[i],subtypes_m[ind]) # each subtype is counted at most once per strain\n",
    "                usage_cas_inbins_m[i,b] += 1\n",
    "            end\n",
    "        end\n",
    "    end\n",
    "end"
   ]
  },
  {
   "cell_type": "markdown",
   "metadata": {},
   "source": [
    "### normalize by number of occurrences of each subtype"
   ]
  },
  {
   "cell_type": "code",
   "execution_count": 24,
   "metadata": {},
   "outputs": [],
   "source": [
    "frac_usage_cas_inbins_m = usage_cas_inbins_m./sum(usage_cas_inbins_m,dims=2);"
   ]
  },
  {
   "cell_type": "code",
   "execution_count": 25,
   "metadata": {},
   "outputs": [
    {
     "data": {
      "image/png": "[encoded data removed]",
      "text/plain": [
       "Figure(PyObject <Figure size 300x320 with 12 Axes>)"
      ]
     },
     "metadata": {},
     "output_type": "display_data"
    },
    {
     "data": {
      "text/plain": [
       "PyObject Text(0.33, 0.01, 'repertoire size bin')"
      ]
     },
     "execution_count": 25,
     "metadata": {},
     "output_type": "execute_result"
    }
   ],
   "source": [
    "fig, axs = subplots(ni, nj, figsize=(3, 3.2), sharex=true, sharey=true)\n",
    "\n",
    "fs = 8\n",
    "\n",
    "for i in 1:ni, j in 1:nj\n",
    "    n = (i-1)*nj + j\n",
    "    \n",
    "    axs[i,j].bar(1:3, frac_usage_cas_inbins_m[p_s[n],:], width=1, color=colors_s[p_s[n]])\n",
    "    \n",
    "    axs[i,j].set_title(subtypes_s1[p_s[n]], fontsize=fs+1, loc=\"right\", y=0.7)\n",
    "    axs[i,j].set_xticks(1:3)\n",
    "    axs[i,j].set_xticklabels([\"sm\",\"med\",\"lg\"], fontsize=fs-1)\n",
    "    axs[i,j].set_ylim(0,1)\n",
    "    axs[i,j].set_yticks([0,1])\n",
    "    axs[i,j].set_yticklabels([\"0\",\"1\"], fontsize=fs-1)\n",
    "    \n",
    "    axs[i,j].spines[\"top\"].set_visible(false)\n",
    "    axs[i,j].spines[\"right\"].set_visible(false)\n",
    "end\n",
    "\n",
    "fig.text(0.11,0.91,\"Subtype incidence vs. repertoire size\", fontsize=fs+1)\n",
    "fig.text(0.33,0.01,\"repertoire size bin\", fontsize=fs+1)\n",
    "\n",
    "# savefig(\"usage_castype_m.svg\",format=\"svg\")"
   ]
  },
  {
   "cell_type": "markdown",
   "metadata": {},
   "source": [
    "### rank order subtypes by relative incidence in repertoire size bins"
   ]
  },
  {
   "cell_type": "code",
   "execution_count": 26,
   "metadata": {},
   "outputs": [],
   "source": [
    "ratio_usage_s = frac_usage_cas_inbins_m[:,3]./frac_usage_cas_inbins_m[:,1];"
   ]
  },
  {
   "cell_type": "code",
   "execution_count": 27,
   "metadata": {},
   "outputs": [],
   "source": [
    "p_ratio_s = [10,9,5,11,3,4,7,1,2,6,8,12];"
   ]
  },
  {
   "cell_type": "code",
   "execution_count": 28,
   "metadata": {},
   "outputs": [],
   "source": [
    "# p = sortperm(ratio_usage_s)\n",
    "# [p ratio_usage_s[p]]"
   ]
  },
  {
   "cell_type": "code",
   "execution_count": 29,
   "metadata": {},
   "outputs": [
    {
     "data": {
      "text/plain": [
       "0.6288547783721111"
      ]
     },
     "execution_count": 29,
     "metadata": {},
     "output_type": "execute_result"
    }
   ],
   "source": [
    "spearman_ratio_s = cor(p_len_s,p_ratio_s)"
   ]
  },
  {
   "cell_type": "code",
   "execution_count": 30,
   "metadata": {},
   "outputs": [
    {
     "data": {
      "text/plain": [
       "0.015267"
      ]
     },
     "execution_count": 30,
     "metadata": {},
     "output_type": "execute_result"
    }
   ],
   "source": [
    "# p-value\n",
    "num = 0\n",
    "for i in 1:Int(1e6)\n",
    "    if cor(p_len_s,shuffle(p_ratio_s)) > spearman_ratio_s\n",
    "        num += 1\n",
    "    end\n",
    "end\n",
    "\n",
    "num/1e6"
   ]
  },
  {
   "cell_type": "markdown",
   "metadata": {},
   "source": [
    "### only type I subtypes"
   ]
  },
  {
   "cell_type": "code",
   "execution_count": 31,
   "metadata": {},
   "outputs": [],
   "source": [
    "p_len_I = [7,5,3,5,1.5,1.5,5]\n",
    "p_ratio_I = [6,5,3,7,1,2,4];"
   ]
  },
  {
   "cell_type": "code",
   "execution_count": 32,
   "metadata": {},
   "outputs": [],
   "source": [
    "# p = sortperm(q25len_s[1:7])\n",
    "# [p q25len_s[1:7][p]]\n",
    "\n",
    "# p = sortperm(ratio_usage_s[1:7])\n",
    "# [p ratio_usage_s[1:7][p]]"
   ]
  },
  {
   "cell_type": "code",
   "execution_count": 33,
   "metadata": {
    "scrolled": true
   },
   "outputs": [
    {
     "data": {
      "text/plain": [
       "0.8794653965640157"
      ]
     },
     "execution_count": 33,
     "metadata": {},
     "output_type": "execute_result"
    }
   ],
   "source": [
    "spearman_ratio_I = cor(p_len_I, p_ratio_I)"
   ]
  },
  {
   "cell_type": "code",
   "execution_count": 34,
   "metadata": {},
   "outputs": [
    {
     "data": {
      "text/plain": [
       "0.004749"
      ]
     },
     "execution_count": 34,
     "metadata": {},
     "output_type": "execute_result"
    }
   ],
   "source": [
    "# p-value\n",
    "num = 0\n",
    "for i in 1:Int(1e6)\n",
    "    if cor(p_len_I,shuffle(p_ratio_I)) > spearman_ratio_I\n",
    "        num += 1\n",
    "    end\n",
    "end\n",
    "\n",
    "num/1e6"
   ]
  },
  {
   "cell_type": "markdown",
   "metadata": {},
   "source": [
    "## Fig. S4A: Incidence of spacer lengths in 3 repertoire size bins\n",
    "### number of spacers of each length appearing in each bin"
   ]
  },
  {
   "cell_type": "code",
   "execution_count": 35,
   "metadata": {},
   "outputs": [],
   "source": [
    "lranges = vcat(collect(30:2:38),1000)\n",
    "\n",
    "usage_l_inbins_m = zeros(Int,6,3)\n",
    "\n",
    "for b in 1:3 # each bin\n",
    "    for ind in inds_inbins_m[b] # each strain in bin\n",
    "        for l in s2lens_gbs[\"M\"][ind] # each spacer length in strain\n",
    "            usage_l_inbins_m[findfirst(x->l<=x,lranges),b] += 1\n",
    "        end\n",
    "    end\n",
    "end"
   ]
  },
  {
   "cell_type": "markdown",
   "metadata": {},
   "source": [
    "### normalize by total number of spacers in each bin"
   ]
  },
  {
   "cell_type": "code",
   "execution_count": 36,
   "metadata": {},
   "outputs": [],
   "source": [
    "totnumspacers = sum(usage_l_inbins_m,dims=1)\n",
    "\n",
    "frac_usage_l_inbins_m = usage_l_inbins_m./totnumspacers;"
   ]
  },
  {
   "cell_type": "code",
   "execution_count": 37,
   "metadata": {},
   "outputs": [
    {
     "data": {
      "image/png": "[encoded data removed]",
      "text/plain": [
       "Figure(PyObject <Figure size 640x480 with 6 Axes>)"
      ]
     },
     "metadata": {},
     "output_type": "display_data"
    },
    {
     "data": {
      "text/plain": [
       "PyObject Text(0.4, 0.02, 'repertoire size bin')"
      ]
     },
     "execution_count": 37,
     "metadata": {},
     "output_type": "execute_result"
    }
   ],
   "source": [
    "ni2 = 3\n",
    "nj2 = 2\n",
    "fig, axs = subplots(ni2, nj2, sharex=true, sharey=true)\n",
    "\n",
    "fs = 11\n",
    "l_text = [\"\\$l \\\\leq 30\\$\",\n",
    "          \"\\$31 \\\\leq l \\\\leq 32\\$\",\n",
    "          \"\\$33 \\\\leq l \\\\leq 34\\$\",\n",
    "          \"\\$35 \\\\leq l \\\\leq 36\\$\",\n",
    "          \"\\$37 \\\\leq l \\\\leq 38\\$\",\n",
    "          \"\\$l \\\\geq 39\\$\"]\n",
    "\n",
    "for i in 1:ni2, j in 1:nj2\n",
    "    n = (i-1)*nj2 + j\n",
    "    \n",
    "    axs[i,j].bar(1:3, frac_usage_l_inbins_m[n,:], width=1)\n",
    "    \n",
    "    axs[i,j].set_title(l_text[n], fontsize=fs, loc=\"center\", y=0.75)\n",
    "    axs[i,j].set_xticks(1:3)\n",
    "    axs[i,j].set_xticklabels([\"small\",\"medium\",\"large\"], fontsize=fs)\n",
    "    axs[i,j].set_ylim(0,0.4)\n",
    "    axs[i,j].set_yticks([0,0.4])\n",
    "    axs[i,j].set_yticklabels([0,0.4], fontsize=fs)\n",
    "    \n",
    "    axs[i,j].spines[\"top\"].set_visible(false)\n",
    "    axs[i,j].spines[\"right\"].set_visible(false)\n",
    "end\n",
    "\n",
    "fig.text(0.27,0.91,\"Spacer length incidence in multiple-subtype species\", fontsize=fs+1)\n",
    "fig.text(0.4,0.02,\"repertoire size bin\", fontsize=fs+1)\n",
    "\n",
    "# savefig(\"usage_l_m.svg\",format=\"svg\")"
   ]
  },
  {
   "cell_type": "markdown",
   "metadata": {},
   "source": [
    "## Fig. S4B: Incidence of cas subtypes across repertoire size bins\n",
    "### quantities for plotting Fig. 2C"
   ]
  },
  {
   "cell_type": "code",
   "execution_count": 38,
   "metadata": {},
   "outputs": [
    {
     "name": "stdout",
     "output_type": "stream",
     "text": [
      "2577 repertoires returned.\n"
     ]
    },
    {
     "data": {
      "text/plain": [
       "13"
      ]
     },
     "execution_count": 38,
     "metadata": {},
     "output_type": "execute_result"
    }
   ],
   "source": [
    "num_gbs, repsizes, spacerlens = get_repertoires(gbs)\n",
    "mspacerlens = mean.(spacerlens)\n",
    "\n",
    "inds_inbins_cc = bin_equalheight(repsizes, binsize=bs, mergelast=ml)\n",
    "\n",
    "mean_logN_inbins_cc = [mean(log10.(repsizes[inds])) for inds in inds_inbins_cc]\n",
    "stderr_logN_inbins_cc = [std(log10.(repsizes[inds]))/sqrt(length(inds)) for inds in inds_inbins_cc]\n",
    "\n",
    "mean_l_inbins_cc = [mean(mspacerlens[inds]) for inds in inds_inbins_cc]\n",
    "stderr_l_inbins_cc = [std(mspacerlens[inds])/sqrt(length(inds)) for inds in inds_inbins_cc]\n",
    "\n",
    "num_bins_cc = length(inds_inbins_cc)"
   ]
  },
  {
   "cell_type": "code",
   "execution_count": 39,
   "metadata": {
    "scrolled": false
   },
   "outputs": [
    {
     "data": {
      "text/plain": [
       "(2.1758408170354957, 30.116426869660494, 0.12103355069410035, 0.2117072162747804)"
      ]
     },
     "execution_count": 39,
     "metadata": {},
     "output_type": "execute_result"
    }
   ],
   "source": [
    "m_fit, c_fit, dm_fit, dc_fit = linreg(x=log10.(repsizes), y=mspacerlens)"
   ]
  },
  {
   "cell_type": "markdown",
   "metadata": {},
   "source": [
    "### incidence of cas subtypes in each repsize bin"
   ]
  },
  {
   "cell_type": "code",
   "execution_count": 40,
   "metadata": {},
   "outputs": [],
   "source": [
    "usage_cas_inbins_s = zeros(Int,num_s,num_bins_cc)\n",
    "\n",
    "for b in 1:num_bins_cc # each bin\n",
    "    for ind in inds_inbins_cc[b] # each strain in bin\n",
    "        gb = gbs[ind]\n",
    "        st = genbank2subtype[gb]\n",
    "        if st != \"M\" && in(st,subtypes_s)\n",
    "            usage_cas_inbins_s[findfirst(x->x==st, subtypes_s),b] += 1\n",
    "        else\n",
    "            sts = unique([caslocus2subtype[c] for c in genbank2casloci[gb]]) # each subtype is counted at most once per strain\n",
    "            filter!(in(subtypes_s),sts)\n",
    "            for st in sts\n",
    "                usage_cas_inbins_s[findfirst(x->x==st, subtypes_s),b] += 1\n",
    "            end\n",
    "        end\n",
    "    end\n",
    "end"
   ]
  },
  {
   "cell_type": "code",
   "execution_count": 41,
   "metadata": {},
   "outputs": [],
   "source": [
    "# normalize by number of species in each bin\n",
    "frac_usage_cas_inbins_s = usage_cas_inbins_s./length.(inds_inbins_cc)';"
   ]
  },
  {
   "cell_type": "markdown",
   "metadata": {},
   "source": [
    "### plot analogue of Fig. 2C"
   ]
  },
  {
   "cell_type": "code",
   "execution_count": 42,
   "metadata": {},
   "outputs": [
    {
     "data": {
      "image/png": "[encoded data removed]",
      "text/plain": [
       "Figure(PyObject <Figure size 640x480 with 2 Axes>)"
      ]
     },
     "metadata": {},
     "output_type": "display_data"
    }
   ],
   "source": [
    "fig, ax1 = subplots()\n",
    "\n",
    "# plot mean and standard error of binned data\n",
    "ax1.errorbar(mean_logN_inbins_cc,mean_l_inbins_cc, linestyle=\"none\",marker=\"o\",markersize=1,\n",
    "    xerr=stderr_logN_inbins_cc,yerr=stderr_l_inbins_cc, elinewidth=1,capsize=0, color=\"black\")\n",
    "\n",
    "# plot linear fit\n",
    "xrange = collect(0:0.1:3)\n",
    "ax1.plot(xrange,lin.(xrange, m=m_fit, c=c_fit), linewidth=0.8, linestyle=\"--\", color=\"black\")\n",
    "\n",
    "fs = 11\n",
    "\n",
    "xtick_vals = log10.(vcat(collect(1:10),collect(20:10:100),collect(200:100:1000)))\n",
    "xtick_labels = string.(vcat([\"1\"],fill(\"\",8),[\"10\"],fill(\"\",8),[\"100\"],fill(\"\",8),[\"1000\"]))\n",
    "ax1.set_xticks(xtick_vals)\n",
    "ax1.set_xticklabels(xtick_labels, fontsize=fs-1)\n",
    "ax1.set_xlabel(\"spacer repertoire size\", fontsize=fs)\n",
    "ax1.set_xlim(0,3)\n",
    "\n",
    "ax1.set_ylim(31,37.5)\n",
    "ax1.set_ylabel(\"mean spacer length\", fontsize=fs)\n",
    "ax1.set_yticks(31:37)\n",
    "ax1.set_yticklabels(31:37, fontsize=fs-1)\n",
    "\n",
    "ax2 = ax1.twinx()\n",
    "\n",
    "# lineon = fill(\"-\",num_s)\n",
    "lineon = fill(\"none\",num_s)\n",
    "lineon[findall(x->in(x,[\"I-B\",\"I-A\",\"I-U\",\"I-D\",\"II-A\",\"II-C\",\"III-A\",\"III-B\",\"III-D\"]),subtypes_s1)] .= \"-\" # which lines to plot\n",
    "\n",
    "xrange = collect(0:0.1:3)\n",
    "for s in (1:num_s)[p_s]\n",
    "#     m_s, c_s, dm_s, dc_s = linreg(x=mean_logN_inbins_cc, y=frac_usage_cas_inbins_s[s,:])\n",
    "    \n",
    "#     plot(xrange,lin.(xrange, m=m_s, c=c_s), color=colors_s[s])\n",
    "    \n",
    "    ax2.plot(mean_logN_inbins_cc, frac_usage_cas_inbins_s[s,:], color=colors_s[s], linestyle=lineon[s], linewidth=0.8)\n",
    "#     ax2.scatter(mean_logN_inbins_cc, frac_usage_cas_inbins_s[s,:], color=colors_s[s], s=1)\n",
    "end\n",
    "\n",
    "ax2.set_ylim(0,0.45)\n",
    "ax2.set_ylabel(\"incidence of cas subtypes\", fontsize=fs)\n",
    "ax2.set_yticks(0:0.1:0.4)\n",
    "ax2.set_yticklabels(0:0.1:0.4, fontsize=fs-1)\n",
    "\n",
    "legend(subtypes_s1[p_s], fontsize=fs-1, loc=\"upper left\")\n",
    "\n",
    "# legend([\"fit, \\$\\\\ln\\\\,N = ($propconst1 \\\\pm $dpropconst1)\\\\ l_s\\$ + const.\",\n",
    "#         \"data (species with cas)\"], fontsize=fs, loc=\"upper left\")\n",
    "\n",
    "ax1.spines[\"top\"].set_visible(false)\n",
    "ax2.spines[\"top\"].set_visible(false)\n",
    "\n",
    "# savefig(\"fit-with-subtypes.svg\",format=\"svg\")"
   ]
  },
  {
   "cell_type": "markdown",
   "metadata": {},
   "source": [
    "## Fig. R3: Compare within subtypes with broad length distributions\n",
    "### type I subtypes with broad length distributions"
   ]
  },
  {
   "cell_type": "code",
   "execution_count": 43,
   "metadata": {},
   "outputs": [],
   "source": [
    "num_bins = 3\n",
    "\n",
    "subtypes_I_broad = [\"CAS-TypeI\"*a for a in [\"A\",\"B\",\"C\",\"D\",\"U\"]]\n",
    "subtypes_I_broad1 = [\"I-\"*a for a in [\"A\",\"B\",\"C\",\"D\",\"U\"]]\n",
    "colors_I_broad = [get_cmap(\"Blues\",6)(i) for i in 1:5]\n",
    "\n",
    "binsizes_I_broad_bysubtype = [ceil(Int,s2num_gbs[s]/num_bins) for s in subtypes_I_broad]\n",
    "\n",
    "inds_inbins_I_broad_bysubtype = Array[]\n",
    "\n",
    "for i in 1:5\n",
    "    s = subtypes_I_broad[i]\n",
    "    b = binsizes_I_broad_bysubtype[i]\n",
    "    \n",
    "    inds_inbins = bin_equalheight(s2N_gbs[s], binsize=b, mergelast=false)\n",
    "    \n",
    "    push!(inds_inbins_I_broad_bysubtype, inds_inbins)\n",
    "end"
   ]
  },
  {
   "cell_type": "code",
   "execution_count": 44,
   "metadata": {},
   "outputs": [],
   "source": [
    "lens_collated_I_broad_bysubtype = [[vcat(s2lens_gbs[subtypes_I_broad[i]][inds_inbins_I_broad_bysubtype[i][b]]...) for b in 1:num_bins] for i in 1:5]\n",
    "\n",
    "Ns_collated_I_broad_bysubtype = [[s2N_gbs[subtypes_I_broad[i]][inds_inbins_I_broad_bysubtype[i][b]] for b in 1:num_bins] for i in 1:5]\n",
    "\n",
    "lens_hist_I_broad_bysubtype = [[get_freqs_l(lens_collated_I_broad_bysubtype[i][b], lmin=lmin, lmax=lmax) for b in 1:num_bins] for i in 1:5];"
   ]
  },
  {
   "cell_type": "code",
   "execution_count": 45,
   "metadata": {},
   "outputs": [],
   "source": [
    "q25len_I_broad_bysubtype = [[round(Int,quantile(lens_collated_I_broad_bysubtype[i][b], 0.25)) for b in 1:num_bins] for i in 1:5]\n",
    "q50len_I_broad_bysubtype = [[round(Int,median(lens_collated_I_broad_bysubtype[i][b])) for b in 1:num_bins] for i in 1:5];"
   ]
  },
  {
   "cell_type": "code",
   "execution_count": 46,
   "metadata": {
    "scrolled": true
   },
   "outputs": [
    {
     "data": {
      "image/png": "[encoded data removed]",
      "text/plain": [
       "Figure(PyObject <Figure size 500x300 with 15 Axes>)"
      ]
     },
     "metadata": {},
     "output_type": "display_data"
    },
    {
     "data": {
      "text/plain": [
       "PyObject Text(0.43, 0, 'spacer length')"
      ]
     },
     "execution_count": 46,
     "metadata": {},
     "output_type": "execute_result"
    }
   ],
   "source": [
    "fig, axs = subplots(num_bins, 5, figsize=(5, 3), sharex=true, sharey=false)\n",
    "\n",
    "fs = 8\n",
    "\n",
    "for i in 1:num_bins, j in 1:5\n",
    "    s = subtypes_I_broad[j]\n",
    "    \n",
    "    axs[i,j].bar(lmin:lmax, lens_hist_I_broad_bysubtype[j][i], width=1, color=colors_I_broad[j])\n",
    "    \n",
    "    # indicate median and 25th percentile\n",
    "    ymin, ymax = axs[i,j].get_ylim()\n",
    "#     axs[i,j].vlines(q25len_I_broad_bysubtype[j][i], 0, ymax, color=\"cyan\", linewidth=1, linestyle=\"--\")\n",
    "    axs[i,j].vlines(q50len_I_broad_bysubtype[j][i], 0, ymax, color=\"cyan\", linewidth=1)\n",
    "    axs[i,j].set_title(\"$(q50len_I_broad_bysubtype[j][i])\", fontsize=fs, loc=\"right\", y=-0.05)\n",
    "    \n",
    "#     axs[i,j].set_title(subtypes_I_broad1[j], fontsize=fs, loc=\"right\", y=0.65)\n",
    "    axs[i,j].set_xticks(lmin:5:lmax)\n",
    "    axs[i,j].set_xticklabels(lmin:5:lmax, fontsize=fs-1)\n",
    "    axs[i,j].set_yticks([])\n",
    "    \n",
    "    if i==1\n",
    "        axs[i,j].set_title(subtypes_I_broad1[j], fontsize=fs+1, loc=\"center\", y=0.9)\n",
    "    end\n",
    "    \n",
    "    axs[i,j].spines[\"top\"].set_visible(false)\n",
    "    axs[i,j].spines[\"right\"].set_visible(false)\n",
    "    axs[i,j].spines[\"left\"].set_visible(false)\n",
    "end\n",
    "\n",
    "fig.text(0.91,0.69,\"small N\", fontsize=fs+1, rotation=270)\n",
    "fig.text(0.91,0.41,\"medium N\", fontsize=fs+1, rotation=270)\n",
    "fig.text(0.91,0.15,\"large N\", fontsize=fs+1, rotation=270)\n",
    "fig.text(0.08,0.33,\"number of spacers\", fontsize=fs+1, rotation=\"vertical\")\n",
    "fig.text(0.43,0,\"spacer length\", fontsize=fs+1)\n",
    "\n",
    "# savefig(\"len_bysubtype_I.svg\",format=\"svg\")"
   ]
  },
  {
   "cell_type": "markdown",
   "metadata": {},
   "source": [
    "### type III subtypes"
   ]
  },
  {
   "cell_type": "code",
   "execution_count": 47,
   "metadata": {},
   "outputs": [],
   "source": [
    "subtypes_III = [\"CAS-TypeIII\"*a for a in [\"A\",\"B\",\"D\"]]\n",
    "subtypes_III1 = [\"III-\"*a for a in [\"A\",\"B\",\"D\"]]\n",
    "colors_III = [get_cmap(\"Reds\",4)(i) for i in 1:3]\n",
    "\n",
    "binsizes_III_bysubtype = [13,13,11]\n",
    "\n",
    "inds_inbins_III_bysubtype = Array[]\n",
    "\n",
    "for i in 1:3\n",
    "    s = subtypes_III[i]\n",
    "    b = binsizes_III_bysubtype[i]\n",
    "    \n",
    "    inds_inbins = bin_equalheight(s2N_gbs[s], binsize=b, mergelast=false)\n",
    "    \n",
    "    push!(inds_inbins_III_bysubtype, inds_inbins)\n",
    "end"
   ]
  },
  {
   "cell_type": "code",
   "execution_count": 48,
   "metadata": {},
   "outputs": [],
   "source": [
    "lens_collated_III_bysubtype = [[vcat(s2lens_gbs[subtypes_III[i]][inds_inbins_III_bysubtype[i][b]]...) for b in 1:num_bins] for i in 1:3]\n",
    "\n",
    "Ns_collated_III_bysubtype = [[s2N_gbs[subtypes_I_broad[i]][inds_inbins_I_broad_bysubtype[i][b]] for b in 1:num_bins] for i in 1:5]\n",
    "\n",
    "lens_hist_III_bysubtype = [[get_freqs_l(lens_collated_III_bysubtype[i][b], lmin=lmin, lmax=lmax) for b in 1:num_bins] for i in 1:3];"
   ]
  },
  {
   "cell_type": "code",
   "execution_count": 49,
   "metadata": {},
   "outputs": [],
   "source": [
    "q25len_III_bysubtype = [[round(Int,quantile(lens_collated_III_bysubtype[i][b], 0.25)) for b in 1:num_bins] for i in 1:3]\n",
    "q50len_III_bysubtype = [[round(Int,median(lens_collated_III_bysubtype[i][b])) for b in 1:num_bins] for i in 1:3];"
   ]
  },
  {
   "cell_type": "code",
   "execution_count": 50,
   "metadata": {},
   "outputs": [
    {
     "data": {
      "image/png": "[encoded data removed]",
      "text/plain": [
       "Figure(PyObject <Figure size 300x300 with 9 Axes>)"
      ]
     },
     "metadata": {},
     "output_type": "display_data"
    },
    {
     "data": {
      "text/plain": [
       "PyObject Text(0.38, 0, 'spacer length')"
      ]
     },
     "execution_count": 50,
     "metadata": {},
     "output_type": "execute_result"
    }
   ],
   "source": [
    "fig, axs = subplots(num_bins, 3, figsize=(3, 3), sharex=true, sharey=false)\n",
    "\n",
    "fs = 8\n",
    "\n",
    "for i in 1:num_bins, j in 1:3\n",
    "    s = subtypes_III[j]\n",
    "    \n",
    "    axs[i,j].bar(lmin:lmax, lens_hist_III_bysubtype[j][i], width=1, color=colors_III[j])\n",
    "    \n",
    "    # indicate median and 25th percentile\n",
    "    ymin, ymax = axs[i,j].get_ylim()\n",
    "#     axs[i,j].vlines(q25len_III_bysubtype[j][i], 0, ymax, color=\"cyan\", linewidth=1, linestyle=\"--\")\n",
    "    axs[i,j].vlines(q50len_III_bysubtype[j][i], 0, ymax, color=\"cyan\", linewidth=1)\n",
    "    axs[i,j].set_title(\"$(q50len_III_bysubtype[j][i])\", fontsize=fs, loc=\"right\", y=-0.05)\n",
    "    \n",
    "#     axs[i,j].set_title(subtypes_III1[j], fontsize=fs, loc=\"right\", y=0.65)\n",
    "    axs[i,j].set_xticks(lmin:5:lmax)\n",
    "    axs[i,j].set_xticklabels(lmin:5:lmax, fontsize=fs-1)\n",
    "    axs[i,j].set_yticks([])\n",
    "    \n",
    "    if i==1\n",
    "        axs[i,j].set_title(subtypes_III1[j], fontsize=fs+1, loc=\"center\", y=0.9)\n",
    "    end\n",
    "    \n",
    "    axs[i,j].spines[\"top\"].set_visible(false)\n",
    "    axs[i,j].spines[\"right\"].set_visible(false)\n",
    "    axs[i,j].spines[\"left\"].set_visible(false)\n",
    "end\n",
    "\n",
    "fig.text(0.91,0.69,\"small N\", fontsize=fs+1, rotation=270)\n",
    "fig.text(0.91,0.41,\"medium N\", fontsize=fs+1, rotation=270)\n",
    "fig.text(0.91,0.15,\"large N\", fontsize=fs+1, rotation=270)\n",
    "fig.text(0.06,0.33,\"number of spacers\", fontsize=fs+1, rotation=\"vertical\")\n",
    "fig.text(0.38,0,\"spacer length\", fontsize=fs+1)\n",
    "\n",
    "# savefig(\"len_bysubtype_III.svg\",format=\"svg\")"
   ]
  },
  {
   "cell_type": "code",
   "execution_count": null,
   "metadata": {},
   "outputs": [],
   "source": []
  }
 ],
 "metadata": {
  "kernelspec": {
   "display_name": "Julia 1.6.5",
   "language": "julia",
   "name": "julia-1.6"
  },
  "language_info": {
   "file_extension": ".jl",
   "mimetype": "application/julia",
   "name": "julia",
   "version": "1.6.5"
  }
 },
 "nbformat": 4,
 "nbformat_minor": 2
}
