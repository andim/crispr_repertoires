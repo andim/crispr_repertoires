{
 "cells": [
  {
   "cell_type": "markdown",
   "metadata": {},
   "source": [
    "# Fraction of species without cas as a function of spacer length\n",
    "This Notebook generates Fig. 2D."
   ]
  },
  {
   "cell_type": "code",
   "execution_count": 1,
   "metadata": {},
   "outputs": [
    {
     "name": "stdout",
     "output_type": "stream",
     "text": [
      "Warning: taxid 2740462 has no species-level parent. Using genus instead.\n"
     ]
    }
   ],
   "source": [
    "using DelimitedFiles, Random, Statistics, PyPlot\n",
    "rc(:svg,fonttype=:none)\n",
    "\n",
    "using NBInclude\n",
    "@nbinclude(\"CRISPRCasdb.ipynb\")\n",
    "\n",
    "include(\"get_repertoires.jl\")\n",
    "include(\"linreg.jl\")\n",
    "\n",
    "get_freqs_l(lens::Array{Int}; lmin, lmax) = [count(x->x==l,lens) for l in lmin:lmax];"
   ]
  },
  {
   "cell_type": "markdown",
   "metadata": {},
   "source": [
    "## Define strains\n",
    "Note: gbs_cc/cnc are ordered at random to eliminate systematic bias when binning."
   ]
  },
  {
   "cell_type": "code",
   "execution_count": 2,
   "metadata": {},
   "outputs": [],
   "source": [
    "# read gbs from file\n",
    "gbdata_cc = readdlm(\"filtered/gbs_cc_filter.csv\",',')\n",
    "gbdata_cnc = readdlm(\"filtered/gbs_cnc_filter.csv\",',')\n",
    "# gbdata_cc = readdlm(\"filtered/gbs_cc.csv\",',')\n",
    "# gbdata_cnc = readdlm(\"filtered/gbs_cnc.csv\",',')\n",
    "\n",
    "gbs_cc = shuffle(gbdata_cc[:,2])\n",
    "gbs_cnc = shuffle(gbdata_cnc[:,2]);"
   ]
  },
  {
   "cell_type": "markdown",
   "metadata": {},
   "source": [
    "## Define repertoires"
   ]
  },
  {
   "cell_type": "code",
   "execution_count": 3,
   "metadata": {},
   "outputs": [
    {
     "name": "stdout",
     "output_type": "stream",
     "text": [
      "2577 repertoires returned.\n",
      "344 repertoires returned.\n"
     ]
    }
   ],
   "source": [
    "num_gbs_cc, repsizes_cc, spacerlens_cc = get_repertoires(gbs_cc)\n",
    "num_gbs_cnc, repsizes_cnc, spacerlens_cnc = get_repertoires(gbs_cnc)\n",
    "\n",
    "mspacerlens_cc = mean.(spacerlens_cc)\n",
    "mspacerlens_cnc = mean.(spacerlens_cnc);"
   ]
  },
  {
   "cell_type": "markdown",
   "metadata": {},
   "source": [
    "## Length probabilities conditioned on presence/absence of cas"
   ]
  },
  {
   "cell_type": "code",
   "execution_count": 4,
   "metadata": {},
   "outputs": [],
   "source": [
    "# round mspacerlens to the nearest integer\n",
    "mspacerlens_cc1  = round.(Int,mspacerlens_cc)\n",
    "mspacerlens_cnc1 = round.(Int,mspacerlens_cnc)\n",
    "\n",
    "# concatenated mean spacer lengths\n",
    "mspacerlens_all1 = vcat(mspacerlens_cc1,mspacerlens_cnc1)\n",
    "\n",
    "# define minimum and maximum length among cc & cnc\n",
    "lmin = minimum(mspacerlens_all1)\n",
    "lmax = maximum(mspacerlens_all1)\n",
    "\n",
    "# get frequencies for each length\n",
    "freqs_l_cc1  = get_freqs_l(mspacerlens_cc1,  lmin=lmin, lmax=lmax)\n",
    "freqs_l_cnc1 = get_freqs_l(mspacerlens_cnc1, lmin=lmin, lmax=lmax)\n",
    "\n",
    "p_l_cc1  = freqs_l_cc1 /num_gbs_cc\n",
    "p_l_cnc1 = freqs_l_cnc1/num_gbs_cnc;"
   ]
  },
  {
   "cell_type": "markdown",
   "metadata": {},
   "source": [
    "## Conditional probability of missing cas"
   ]
  },
  {
   "cell_type": "code",
   "execution_count": 5,
   "metadata": {},
   "outputs": [],
   "source": [
    "# P_nocas = num_gbs_cnc/(num_gbs_cc + num_gbs_cnc)\n",
    "\n",
    "P_nocas_l = freqs_l_cnc1./(freqs_l_cc1 .+ freqs_l_cnc1)\n",
    "\n",
    "var_l_cc1  = num_gbs_cc *p_l_cc1 .*(1 .- p_l_cc1 )\n",
    "var_l_cnc1 = num_gbs_cnc*p_l_cnc1.*(1 .- p_l_cnc1)\n",
    "\n",
    "r = freqs_l_cc1./freqs_l_cnc1\n",
    "\n",
    "var_r = r.^2 .* (var_l_cc1./freqs_l_cc1.^2 .+ var_l_cnc1./freqs_l_cnc1.^2)\n",
    "\n",
    "std_P_nocas_l = sqrt.(var_r)./(1 .+ r).^2;"
   ]
  },
  {
   "cell_type": "markdown",
   "metadata": {},
   "source": [
    "## Linear regression of binned data, known $\\{\\sigma_i^2\\}$"
   ]
  },
  {
   "cell_type": "code",
   "execution_count": 6,
   "metadata": {},
   "outputs": [
    {
     "name": "stdout",
     "output_type": "stream",
     "text": [
      "8\n",
      "9\n",
      "10\n",
      "11\n",
      "12\n",
      "13\n",
      "14\n",
      "15\n",
      "16\n",
      "17\n"
     ]
    }
   ],
   "source": [
    "# no. of species at that length >= 5\n",
    "for i in 1:length(lmin:lmax)\n",
    "    if freqs_l_cnc1[i] >= 5\n",
    "        println(i)\n",
    "    end\n",
    "end"
   ]
  },
  {
   "cell_type": "code",
   "execution_count": 7,
   "metadata": {
    "scrolled": true
   },
   "outputs": [
    {
     "name": "stdout",
     "output_type": "stream",
     "text": [
      "Range where linear fit is done: 29,38\n"
     ]
    },
    {
     "data": {
      "text/plain": [
       "(-0.0097381901332607, 0.4383963328636414, 0.00235821377833264, 0.07971750553235786)"
      ]
     },
     "execution_count": 7,
     "metadata": {},
     "output_type": "execute_result"
    }
   ],
   "source": [
    "lrange = 8:17\n",
    "println(\"Range where linear fit is done: \",(lmin:lmax)[lrange[1]],\",\",(lmin:lmax)[lrange[end]])\n",
    "\n",
    "m, c, dm, dc = linreg(x=(lmin:lmax)[lrange], y=P_nocas_l[lrange], dy=std_P_nocas_l[lrange])"
   ]
  },
  {
   "cell_type": "code",
   "execution_count": 8,
   "metadata": {},
   "outputs": [
    {
     "data": {
      "text/plain": [
       "-0.01"
      ]
     },
     "execution_count": 8,
     "metadata": {},
     "output_type": "execute_result"
    }
   ],
   "source": [
    "round(m,digits=3)"
   ]
  },
  {
   "cell_type": "code",
   "execution_count": 9,
   "metadata": {},
   "outputs": [
    {
     "data": {
      "image/png": "[encoded data removed]",
      "text/plain": [
       "Figure(PyObject <Figure size 1280x600 with 1 Axes>)"
      ]
     },
     "metadata": {},
     "output_type": "display_data"
    }
   ],
   "source": [
    "fig, ax = subplots(figsize=(6.4, 3), dpi=200)\n",
    "\n",
    "errorbar((lmin:lmax)[lrange],P_nocas_l[lrange], linestyle=\"none\",marker=\"o\",markersize=2,\n",
    "    yerr=std_P_nocas_l[lrange], elinewidth=1,capsize=0)\n",
    "\n",
    "plot(lmin:lmax,m*(lmin:lmax) .+ c)\n",
    "\n",
    "# hlines(P_nocas,27,41,color=\"grey\")\n",
    "\n",
    "fs = 12\n",
    "xlabel(\"mean spacer length\", fontsize=fs)\n",
    "ylabel(\"fraction without cas\", fontsize=fs)\n",
    "\n",
    "xlim(28.8,38.2)\n",
    "ylim(0,0.35)\n",
    "\n",
    "xticks(30:2:38, fontsize=fs)\n",
    "yticks(0:.1:.3, fontsize=fs)\n",
    "\n",
    "legend([\"fit, slope = -0.010 \\$\\\\pm\\$ $(round(dm,sigdigits=1))\"], fontsize=fs)\n",
    "\n",
    "ax.spines[\"top\"].set_visible(false)\n",
    "ax.spines[\"right\"].set_visible(false)\n",
    "\n",
    "# savefig(\"P_nocas.svg\",format=\"svg\")"
   ]
  },
  {
   "cell_type": "code",
   "execution_count": 10,
   "metadata": {},
   "outputs": [
    {
     "data": {
      "text/plain": [
       "-0.0097381901332607"
      ]
     },
     "execution_count": 10,
     "metadata": {},
     "output_type": "execute_result"
    }
   ],
   "source": [
    "m_0 = m"
   ]
  },
  {
   "cell_type": "markdown",
   "metadata": {},
   "source": [
    "### permutation test\n",
    "Note: The following code cell reuses the above variables."
   ]
  },
  {
   "cell_type": "code",
   "execution_count": 11,
   "metadata": {},
   "outputs": [],
   "source": [
    "# num = 10^6\n",
    "\n",
    "# m_values = Float64[]\n",
    "\n",
    "# @time for i in 1:num\n",
    "#     mspacerlens_shuf = shuffle(mspacerlens_all1)\n",
    "    \n",
    "#     # get frequencies for each length\n",
    "#     freqs_l_cc1  = get_freqs_l(mspacerlens_shuf[1:num_gbs_cc], lmin=lmin, lmax=lmax)\n",
    "#     freqs_l_cnc1 = get_freqs_l(mspacerlens_shuf[num_gbs_cc+1:end], lmin=lmin, lmax=lmax)\n",
    "    \n",
    "#     p_l_cc1  = freqs_l_cc1 /num_gbs_cc\n",
    "#     p_l_cnc1 = freqs_l_cnc1/num_gbs_cnc;\n",
    "    \n",
    "#     P_nocas_l = freqs_l_cnc1./(freqs_l_cc1 .+ freqs_l_cnc1)\n",
    "    \n",
    "#     var_l_cc1  = num_gbs_cc *p_l_cc1 .*(1 .- p_l_cc1 )\n",
    "#     var_l_cnc1 = num_gbs_cnc*p_l_cnc1.*(1 .- p_l_cnc1)\n",
    "    \n",
    "#     r = freqs_l_cc1./freqs_l_cnc1\n",
    "    \n",
    "#     var_r = r.^2 .* (var_l_cc1./freqs_l_cc1.^2 .+ var_l_cnc1./freqs_l_cnc1.^2)\n",
    "    \n",
    "#     std_P_nocas_l = sqrt.(var_r)./(1 .+ r).^2;\n",
    "    \n",
    "#     m, c, dm, dc = linreg(x=(lmin:lmax)[lrange], y=P_nocas_l[lrange], dy=std_P_nocas_l[lrange])\n",
    "    \n",
    "#     push!(m_values,m)\n",
    "# end"
   ]
  },
  {
   "cell_type": "code",
   "execution_count": 12,
   "metadata": {},
   "outputs": [],
   "source": [
    "# count(x->x<m_0, m_values)/num"
   ]
  },
  {
   "cell_type": "code",
   "execution_count": null,
   "metadata": {},
   "outputs": [],
   "source": []
  }
 ],
 "metadata": {
  "kernelspec": {
   "display_name": "Julia 1.6.5",
   "language": "julia",
   "name": "julia-1.6"
  },
  "language_info": {
   "file_extension": ".jl",
   "mimetype": "application/julia",
   "name": "julia",
   "version": "1.6.5"
  }
 },
 "nbformat": 4,
 "nbformat_minor": 2
}
